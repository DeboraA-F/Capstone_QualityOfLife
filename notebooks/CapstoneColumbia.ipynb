{
 "cells": [
  {
   "cell_type": "code",
   "execution_count": 3,
   "id": "75cb36e6-69b7-4ef0-b3cd-0af55e910ce3",
   "metadata": {},
   "outputs": [],
   "source": [
    "import requests\n",
    "from bs4 import BeautifulSoup as BS\n",
    "import pandas as pd"
   ]
  },
  {
   "cell_type": "markdown",
   "id": "513a75e5-e291-4c3b-9718-3fc2ae7f566e",
   "metadata": {},
   "source": [
    "## Crime"
   ]
  },
  {
   "cell_type": "code",
   "execution_count": 5,
   "id": "9b98edbb-349d-4bce-b829-65c67f12fa8c",
   "metadata": {},
   "outputs": [],
   "source": [
    "URL = 'https://www.numbeo.com/crime/in/Columbia-MD'\n",
    "response = requests.get(URL)"
   ]
  },
  {
   "cell_type": "code",
   "execution_count": 7,
   "id": "09955db9-9d54-484b-8d42-57eb29c880c5",
   "metadata": {},
   "outputs": [
    {
     "data": {
      "text/plain": [
       "200"
      ]
     },
     "execution_count": 7,
     "metadata": {},
     "output_type": "execute_result"
    }
   ],
   "source": [
    "response.status_code"
   ]
  },
  {
   "cell_type": "code",
   "execution_count": 9,
   "id": "48d04371-993b-4ae7-a48c-e5db8191edfa",
   "metadata": {},
   "outputs": [],
   "source": [
    "soup = BS(response.text)"
   ]
  },
  {
   "cell_type": "code",
   "execution_count": 11,
   "id": "1fea8047-d4a5-4823-8684-c365c0519a98",
   "metadata": {},
   "outputs": [
    {
     "name": "stderr",
     "output_type": "stream",
     "text": [
      "C:\\Users\\debor\\AppData\\Local\\Temp\\ipykernel_72432\\3635083558.py:1: FutureWarning: Passing literal html to 'read_html' is deprecated and will be removed in a future version. To read from a literal string, wrap it in a 'StringIO' object.\n",
      "  crime = pd.read_html(str(soup.find('table', attrs={'class':'table_builder_with_value_explanation data_wide_table'})))[0]\n"
     ]
    }
   ],
   "source": [
    "crime = pd.read_html(str(soup.find('table', attrs={'class':'table_builder_with_value_explanation data_wide_table'})))[0]"
   ]
  },
  {
   "cell_type": "code",
   "execution_count": 13,
   "id": "db69792e-1775-482c-8122-fce2ca03b3b3",
   "metadata": {},
   "outputs": [],
   "source": [
    "crime = crime.drop(columns = [1])"
   ]
  },
  {
   "cell_type": "code",
   "execution_count": 15,
   "id": "1083aa80-b155-46d7-ac4e-921c3eb02d72",
   "metadata": {
    "scrolled": true
   },
   "outputs": [
    {
     "data": {
      "text/html": [
       "<div>\n",
       "<style scoped>\n",
       "    .dataframe tbody tr th:only-of-type {\n",
       "        vertical-align: middle;\n",
       "    }\n",
       "\n",
       "    .dataframe tbody tr th {\n",
       "        vertical-align: top;\n",
       "    }\n",
       "\n",
       "    .dataframe thead th {\n",
       "        text-align: right;\n",
       "    }\n",
       "</style>\n",
       "<table border=\"1\" class=\"dataframe\">\n",
       "  <thead>\n",
       "    <tr style=\"text-align: right;\">\n",
       "      <th></th>\n",
       "      <th>Types of Crime</th>\n",
       "      <th>Crime%</th>\n",
       "      <th>Value</th>\n",
       "    </tr>\n",
       "  </thead>\n",
       "  <tbody>\n",
       "    <tr>\n",
       "      <th>0</th>\n",
       "      <td>Level of crime</td>\n",
       "      <td>25.00</td>\n",
       "      <td>Low</td>\n",
       "    </tr>\n",
       "    <tr>\n",
       "      <th>1</th>\n",
       "      <td>Crime increasing in the past 5 years</td>\n",
       "      <td>53.33</td>\n",
       "      <td>Moderate</td>\n",
       "    </tr>\n",
       "    <tr>\n",
       "      <th>2</th>\n",
       "      <td>Worries home broken and things stolen</td>\n",
       "      <td>31.67</td>\n",
       "      <td>Low</td>\n",
       "    </tr>\n",
       "    <tr>\n",
       "      <th>3</th>\n",
       "      <td>Worries being mugged or robbed</td>\n",
       "      <td>25.00</td>\n",
       "      <td>Low</td>\n",
       "    </tr>\n",
       "    <tr>\n",
       "      <th>4</th>\n",
       "      <td>Worries car stolen</td>\n",
       "      <td>31.67</td>\n",
       "      <td>Low</td>\n",
       "    </tr>\n",
       "    <tr>\n",
       "      <th>5</th>\n",
       "      <td>Worries things from car stolen</td>\n",
       "      <td>35.00</td>\n",
       "      <td>Low</td>\n",
       "    </tr>\n",
       "    <tr>\n",
       "      <th>6</th>\n",
       "      <td>Worries attacked</td>\n",
       "      <td>20.00</td>\n",
       "      <td>Low</td>\n",
       "    </tr>\n",
       "    <tr>\n",
       "      <th>7</th>\n",
       "      <td>Worries being insulted</td>\n",
       "      <td>15.00</td>\n",
       "      <td>Very Low</td>\n",
       "    </tr>\n",
       "    <tr>\n",
       "      <th>8</th>\n",
       "      <td>Worries being subject to a physical attack bec...</td>\n",
       "      <td>11.67</td>\n",
       "      <td>Very Low</td>\n",
       "    </tr>\n",
       "    <tr>\n",
       "      <th>9</th>\n",
       "      <td>Problem people using or dealing drugs</td>\n",
       "      <td>28.33</td>\n",
       "      <td>Low</td>\n",
       "    </tr>\n",
       "    <tr>\n",
       "      <th>10</th>\n",
       "      <td>Problem property crimes such as vandalism and ...</td>\n",
       "      <td>35.00</td>\n",
       "      <td>Low</td>\n",
       "    </tr>\n",
       "    <tr>\n",
       "      <th>11</th>\n",
       "      <td>Problem violent crimes such as assault and arm...</td>\n",
       "      <td>25.00</td>\n",
       "      <td>Low</td>\n",
       "    </tr>\n",
       "    <tr>\n",
       "      <th>12</th>\n",
       "      <td>Problem corruption and bribery</td>\n",
       "      <td>26.67</td>\n",
       "      <td>Low</td>\n",
       "    </tr>\n",
       "  </tbody>\n",
       "</table>\n",
       "</div>"
      ],
      "text/plain": [
       "                                       Types of Crime  Crime%     Value\n",
       "0                                      Level of crime   25.00       Low\n",
       "1                Crime increasing in the past 5 years   53.33  Moderate\n",
       "2               Worries home broken and things stolen   31.67       Low\n",
       "3                      Worries being mugged or robbed   25.00       Low\n",
       "4                                  Worries car stolen   31.67       Low\n",
       "5                      Worries things from car stolen   35.00       Low\n",
       "6                                    Worries attacked   20.00       Low\n",
       "7                              Worries being insulted   15.00  Very Low\n",
       "8   Worries being subject to a physical attack bec...   11.67  Very Low\n",
       "9               Problem people using or dealing drugs   28.33       Low\n",
       "10  Problem property crimes such as vandalism and ...   35.00       Low\n",
       "11  Problem violent crimes such as assault and arm...   25.00       Low\n",
       "12                     Problem corruption and bribery   26.67       Low"
      ]
     },
     "execution_count": 15,
     "metadata": {},
     "output_type": "execute_result"
    }
   ],
   "source": [
    "crime = crime.rename(columns = {0 : 'Types of Crime', 2: 'Crime%', 3: 'Value'})\n",
    "crime"
   ]
  },
  {
   "cell_type": "code",
   "execution_count": 17,
   "id": "7a8eb313-99ce-47aa-a2b0-ad1c19d51d4c",
   "metadata": {},
   "outputs": [],
   "source": [
    "crime.to_csv('Columbia_crime.csv', index=False)"
   ]
  },
  {
   "cell_type": "code",
   "execution_count": 19,
   "id": "3df49dbd-bbef-4fd3-8aa1-30db30697d3d",
   "metadata": {},
   "outputs": [
    {
     "name": "stderr",
     "output_type": "stream",
     "text": [
      "C:\\Users\\debor\\AppData\\Local\\Temp\\ipykernel_72432\\2482010599.py:1: FutureWarning: Passing literal html to 'read_html' is deprecated and will be removed in a future version. To read from a literal string, wrap it in a 'StringIO' object.\n",
      "  safety = pd.read_html(str(soup.findAll('table', attrs={'class':'table_builder_with_value_explanation data_wide_table'})))[1]\n"
     ]
    }
   ],
   "source": [
    "safety = pd.read_html(str(soup.findAll('table', attrs={'class':'table_builder_with_value_explanation data_wide_table'})))[1]"
   ]
  },
  {
   "cell_type": "code",
   "execution_count": 21,
   "id": "92f25670-82dd-4508-9d73-3daaf4a1caf9",
   "metadata": {},
   "outputs": [],
   "source": [
    "safety = safety.drop(columns = [1])"
   ]
  },
  {
   "cell_type": "code",
   "execution_count": 23,
   "id": "b214c918-b744-4806-b942-076fbcbf84a9",
   "metadata": {},
   "outputs": [
    {
     "data": {
      "text/html": [
       "<div>\n",
       "<style scoped>\n",
       "    .dataframe tbody tr th:only-of-type {\n",
       "        vertical-align: middle;\n",
       "    }\n",
       "\n",
       "    .dataframe tbody tr th {\n",
       "        vertical-align: top;\n",
       "    }\n",
       "\n",
       "    .dataframe thead th {\n",
       "        text-align: right;\n",
       "    }\n",
       "</style>\n",
       "<table border=\"1\" class=\"dataframe\">\n",
       "  <thead>\n",
       "    <tr style=\"text-align: right;\">\n",
       "      <th></th>\n",
       "      <th>Components of Safety</th>\n",
       "      <th>Safety%</th>\n",
       "      <th>Value</th>\n",
       "    </tr>\n",
       "  </thead>\n",
       "  <tbody>\n",
       "    <tr>\n",
       "      <th>0</th>\n",
       "      <td>Safety walking alone during daylight</td>\n",
       "      <td>93.33</td>\n",
       "      <td>Very High</td>\n",
       "    </tr>\n",
       "    <tr>\n",
       "      <th>1</th>\n",
       "      <td>Safety walking alone during night</td>\n",
       "      <td>66.67</td>\n",
       "      <td>High</td>\n",
       "    </tr>\n",
       "  </tbody>\n",
       "</table>\n",
       "</div>"
      ],
      "text/plain": [
       "                   Components of Safety  Safety%      Value\n",
       "0  Safety walking alone during daylight    93.33  Very High\n",
       "1     Safety walking alone during night    66.67       High"
      ]
     },
     "execution_count": 23,
     "metadata": {},
     "output_type": "execute_result"
    }
   ],
   "source": [
    "safety = safety.rename(columns = {0 : 'Components of Safety', 2: 'Safety%', 3: 'Value'})\n",
    "safety"
   ]
  },
  {
   "cell_type": "code",
   "execution_count": 25,
   "id": "742a1787-84ca-4adc-8303-d3ec22e9f28f",
   "metadata": {},
   "outputs": [],
   "source": [
    "safety.to_csv('Columbia_safety.csv', index=False)"
   ]
  },
  {
   "cell_type": "markdown",
   "id": "60489ede-ad5d-465b-968f-f8fab6ff2dd6",
   "metadata": {},
   "source": [
    "## Health Care"
   ]
  },
  {
   "cell_type": "code",
   "execution_count": 27,
   "id": "f1af7c89-126a-4e7d-987c-51ead9cd1263",
   "metadata": {},
   "outputs": [],
   "source": [
    "URL = 'https://www.numbeo.com/health-care/in/Columbia-MD'\n",
    "response = requests.get(URL)"
   ]
  },
  {
   "cell_type": "code",
   "execution_count": 29,
   "id": "deed58e5-89f0-465c-bfae-5d2597eee6e5",
   "metadata": {},
   "outputs": [
    {
     "data": {
      "text/plain": [
       "200"
      ]
     },
     "execution_count": 29,
     "metadata": {},
     "output_type": "execute_result"
    }
   ],
   "source": [
    "response.status_code"
   ]
  },
  {
   "cell_type": "code",
   "execution_count": 31,
   "id": "e6eebe94-be3c-4152-aec2-4fc87267611a",
   "metadata": {},
   "outputs": [],
   "source": [
    "soup = BS(response.text)"
   ]
  },
  {
   "cell_type": "code",
   "execution_count": 33,
   "id": "616dabe0-0e89-46b7-abf2-92c430085b03",
   "metadata": {},
   "outputs": [
    {
     "name": "stderr",
     "output_type": "stream",
     "text": [
      "C:\\Users\\debor\\AppData\\Local\\Temp\\ipykernel_72432\\540973274.py:1: FutureWarning: Passing literal html to 'read_html' is deprecated and will be removed in a future version. To read from a literal string, wrap it in a 'StringIO' object.\n",
      "  health_care = pd.read_html(str(soup.find('table', attrs={'class':'table_builder_with_value_explanation data_wide_table'})))[0]\n"
     ]
    }
   ],
   "source": [
    "health_care = pd.read_html(str(soup.find('table', attrs={'class':'table_builder_with_value_explanation data_wide_table'})))[0]"
   ]
  },
  {
   "cell_type": "code",
   "execution_count": 35,
   "id": "ba6a3da4-3f31-43cd-b747-425a3b05685c",
   "metadata": {},
   "outputs": [],
   "source": [
    "health_care = health_care.drop(columns = ['Satisfaction %'])"
   ]
  },
  {
   "cell_type": "code",
   "execution_count": 37,
   "id": "aa8f808e-6bf0-4533-9d9d-19e6dab735f9",
   "metadata": {},
   "outputs": [
    {
     "data": {
      "text/html": [
       "<div>\n",
       "<style scoped>\n",
       "    .dataframe tbody tr th:only-of-type {\n",
       "        vertical-align: middle;\n",
       "    }\n",
       "\n",
       "    .dataframe tbody tr th {\n",
       "        vertical-align: top;\n",
       "    }\n",
       "\n",
       "    .dataframe thead th {\n",
       "        text-align: right;\n",
       "    }\n",
       "</style>\n",
       "<table border=\"1\" class=\"dataframe\">\n",
       "  <thead>\n",
       "    <tr style=\"text-align: right;\">\n",
       "      <th></th>\n",
       "      <th>Component of health care surveyed</th>\n",
       "      <th>Satisfaction %</th>\n",
       "      <th>Value</th>\n",
       "    </tr>\n",
       "  </thead>\n",
       "  <tbody>\n",
       "    <tr>\n",
       "      <th>0</th>\n",
       "      <td>Skill and competency of medical staff</td>\n",
       "      <td>70.83</td>\n",
       "      <td>High</td>\n",
       "    </tr>\n",
       "    <tr>\n",
       "      <th>1</th>\n",
       "      <td>Speed in completing examinations and reports</td>\n",
       "      <td>70.83</td>\n",
       "      <td>High</td>\n",
       "    </tr>\n",
       "    <tr>\n",
       "      <th>2</th>\n",
       "      <td>Equipment for modern diagnosis and treatment</td>\n",
       "      <td>80.00</td>\n",
       "      <td>Very High</td>\n",
       "    </tr>\n",
       "    <tr>\n",
       "      <th>3</th>\n",
       "      <td>Accuracy and completeness in filling out reports</td>\n",
       "      <td>75.00</td>\n",
       "      <td>High</td>\n",
       "    </tr>\n",
       "    <tr>\n",
       "      <th>4</th>\n",
       "      <td>Friendliness and courtesy of the staff</td>\n",
       "      <td>70.00</td>\n",
       "      <td>High</td>\n",
       "    </tr>\n",
       "    <tr>\n",
       "      <th>5</th>\n",
       "      <td>Satisfaction with responsiveness (waitings) in...</td>\n",
       "      <td>41.67</td>\n",
       "      <td>Moderate</td>\n",
       "    </tr>\n",
       "    <tr>\n",
       "      <th>6</th>\n",
       "      <td>Satisfaction with cost to you</td>\n",
       "      <td>54.17</td>\n",
       "      <td>Moderate</td>\n",
       "    </tr>\n",
       "    <tr>\n",
       "      <th>7</th>\n",
       "      <td>Convenience of location for you</td>\n",
       "      <td>91.67</td>\n",
       "      <td>Very High</td>\n",
       "    </tr>\n",
       "  </tbody>\n",
       "</table>\n",
       "</div>"
      ],
      "text/plain": [
       "                   Component of health care surveyed  Satisfaction %  \\\n",
       "0              Skill and competency of medical staff           70.83   \n",
       "1       Speed in completing examinations and reports           70.83   \n",
       "2       Equipment for modern diagnosis and treatment           80.00   \n",
       "3   Accuracy and completeness in filling out reports           75.00   \n",
       "4             Friendliness and courtesy of the staff           70.00   \n",
       "5  Satisfaction with responsiveness (waitings) in...           41.67   \n",
       "6                      Satisfaction with cost to you           54.17   \n",
       "7                    Convenience of location for you           91.67   \n",
       "\n",
       "       Value  \n",
       "0       High  \n",
       "1       High  \n",
       "2  Very High  \n",
       "3       High  \n",
       "4       High  \n",
       "5   Moderate  \n",
       "6   Moderate  \n",
       "7  Very High  "
      ]
     },
     "execution_count": 37,
     "metadata": {},
     "output_type": "execute_result"
    }
   ],
   "source": [
    "health_care = health_care.rename(columns = {'Satisfaction %.1' : 'Satisfaction %', 'Unnamed: 3': 'Value'})\n",
    "health_care"
   ]
  },
  {
   "cell_type": "code",
   "execution_count": 39,
   "id": "359f33a4-2c5b-468a-9547-736b725dc43a",
   "metadata": {},
   "outputs": [],
   "source": [
    "health_care.to_csv('Columbia_health_care.csv', index=False)"
   ]
  }
 ],
 "metadata": {
  "kernelspec": {
   "display_name": "Python 3 (ipykernel)",
   "language": "python",
   "name": "python3"
  },
  "language_info": {
   "codemirror_mode": {
    "name": "ipython",
    "version": 3
   },
   "file_extension": ".py",
   "mimetype": "text/x-python",
   "name": "python",
   "nbconvert_exporter": "python",
   "pygments_lexer": "ipython3",
   "version": "3.11.7"
  }
 },
 "nbformat": 4,
 "nbformat_minor": 5
}
