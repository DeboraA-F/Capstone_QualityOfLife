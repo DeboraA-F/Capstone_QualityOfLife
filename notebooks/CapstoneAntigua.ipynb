{
 "cells": [
  {
   "cell_type": "code",
   "execution_count": 1,
   "id": "75cb36e6-69b7-4ef0-b3cd-0af55e910ce3",
   "metadata": {},
   "outputs": [],
   "source": [
    "import requests\n",
    "from bs4 import BeautifulSoup as BS\n",
    "import pandas as pd"
   ]
  },
  {
   "cell_type": "markdown",
   "id": "513a75e5-e291-4c3b-9718-3fc2ae7f566e",
   "metadata": {},
   "source": [
    "## Crime"
   ]
  },
  {
   "cell_type": "code",
   "execution_count": 5,
   "id": "9b98edbb-349d-4bce-b829-65c67f12fa8c",
   "metadata": {},
   "outputs": [],
   "source": [
    "URL = 'https://www.numbeo.com/crime/country_result.jsp?country=Antigua+And+Barbuda'\n",
    "response = requests.get(URL)"
   ]
  },
  {
   "cell_type": "code",
   "execution_count": 6,
   "id": "09955db9-9d54-484b-8d42-57eb29c880c5",
   "metadata": {},
   "outputs": [
    {
     "data": {
      "text/plain": [
       "200"
      ]
     },
     "execution_count": 6,
     "metadata": {},
     "output_type": "execute_result"
    }
   ],
   "source": [
    "response.status_code"
   ]
  },
  {
   "cell_type": "code",
   "execution_count": 7,
   "id": "48d04371-993b-4ae7-a48c-e5db8191edfa",
   "metadata": {},
   "outputs": [],
   "source": [
    "soup = BS(response.text)"
   ]
  },
  {
   "cell_type": "code",
   "execution_count": 8,
   "id": "8962b997-a6a5-4306-b675-cab344ae2c6e",
   "metadata": {},
   "outputs": [
    {
     "name": "stderr",
     "output_type": "stream",
     "text": [
      "C:\\Users\\debor\\AppData\\Local\\Temp\\ipykernel_38956\\3635083558.py:1: FutureWarning: Passing literal html to 'read_html' is deprecated and will be removed in a future version. To read from a literal string, wrap it in a 'StringIO' object.\n",
      "  crime = pd.read_html(str(soup.find('table', attrs={'class':'table_builder_with_value_explanation data_wide_table'})))[0]\n"
     ]
    }
   ],
   "source": [
    "crime = pd.read_html(str(soup.find('table', attrs={'class':'table_builder_with_value_explanation data_wide_table'})))[0]"
   ]
  },
  {
   "cell_type": "code",
   "execution_count": 9,
   "id": "57a186cd-fb3b-45f4-bc6d-8a420cd3b9d6",
   "metadata": {
    "scrolled": true
   },
   "outputs": [],
   "source": [
    "crime = crime.drop(columns = [1])"
   ]
  },
  {
   "cell_type": "code",
   "execution_count": 10,
   "id": "89962b28-7b70-489a-86e4-d0d05d34a869",
   "metadata": {
    "scrolled": true
   },
   "outputs": [
    {
     "data": {
      "text/html": [
       "<div>\n",
       "<style scoped>\n",
       "    .dataframe tbody tr th:only-of-type {\n",
       "        vertical-align: middle;\n",
       "    }\n",
       "\n",
       "    .dataframe tbody tr th {\n",
       "        vertical-align: top;\n",
       "    }\n",
       "\n",
       "    .dataframe thead th {\n",
       "        text-align: right;\n",
       "    }\n",
       "</style>\n",
       "<table border=\"1\" class=\"dataframe\">\n",
       "  <thead>\n",
       "    <tr style=\"text-align: right;\">\n",
       "      <th></th>\n",
       "      <th>Types of Crime</th>\n",
       "      <th>Crime%</th>\n",
       "      <th>Value</th>\n",
       "    </tr>\n",
       "  </thead>\n",
       "  <tbody>\n",
       "    <tr>\n",
       "      <th>0</th>\n",
       "      <td>Level of crime</td>\n",
       "      <td>69.64</td>\n",
       "      <td>High</td>\n",
       "    </tr>\n",
       "    <tr>\n",
       "      <th>1</th>\n",
       "      <td>Crime increasing in the past 5 years</td>\n",
       "      <td>71.43</td>\n",
       "      <td>High</td>\n",
       "    </tr>\n",
       "    <tr>\n",
       "      <th>2</th>\n",
       "      <td>Worries home broken and things stolen</td>\n",
       "      <td>58.93</td>\n",
       "      <td>Moderate</td>\n",
       "    </tr>\n",
       "    <tr>\n",
       "      <th>3</th>\n",
       "      <td>Worries being mugged or robbed</td>\n",
       "      <td>53.33</td>\n",
       "      <td>Moderate</td>\n",
       "    </tr>\n",
       "    <tr>\n",
       "      <th>4</th>\n",
       "      <td>Worries car stolen</td>\n",
       "      <td>48.33</td>\n",
       "      <td>Moderate</td>\n",
       "    </tr>\n",
       "    <tr>\n",
       "      <th>5</th>\n",
       "      <td>Worries things from car stolen</td>\n",
       "      <td>64.29</td>\n",
       "      <td>High</td>\n",
       "    </tr>\n",
       "    <tr>\n",
       "      <th>6</th>\n",
       "      <td>Worries attacked</td>\n",
       "      <td>41.07</td>\n",
       "      <td>Moderate</td>\n",
       "    </tr>\n",
       "    <tr>\n",
       "      <th>7</th>\n",
       "      <td>Worries being insulted</td>\n",
       "      <td>46.67</td>\n",
       "      <td>Moderate</td>\n",
       "    </tr>\n",
       "    <tr>\n",
       "      <th>8</th>\n",
       "      <td>Worries being subject to a physical attack bec...</td>\n",
       "      <td>26.79</td>\n",
       "      <td>Low</td>\n",
       "    </tr>\n",
       "    <tr>\n",
       "      <th>9</th>\n",
       "      <td>Problem people using or dealing drugs</td>\n",
       "      <td>61.67</td>\n",
       "      <td>High</td>\n",
       "    </tr>\n",
       "    <tr>\n",
       "      <th>10</th>\n",
       "      <td>Problem property crimes such as vandalism and ...</td>\n",
       "      <td>61.67</td>\n",
       "      <td>High</td>\n",
       "    </tr>\n",
       "    <tr>\n",
       "      <th>11</th>\n",
       "      <td>Problem violent crimes such as assault and arm...</td>\n",
       "      <td>63.33</td>\n",
       "      <td>High</td>\n",
       "    </tr>\n",
       "    <tr>\n",
       "      <th>12</th>\n",
       "      <td>Problem corruption and bribery</td>\n",
       "      <td>70.00</td>\n",
       "      <td>High</td>\n",
       "    </tr>\n",
       "  </tbody>\n",
       "</table>\n",
       "</div>"
      ],
      "text/plain": [
       "                                       Types of Crime  Crime%     Value\n",
       "0                                      Level of crime   69.64      High\n",
       "1                Crime increasing in the past 5 years   71.43      High\n",
       "2               Worries home broken and things stolen   58.93  Moderate\n",
       "3                      Worries being mugged or robbed   53.33  Moderate\n",
       "4                                  Worries car stolen   48.33  Moderate\n",
       "5                      Worries things from car stolen   64.29      High\n",
       "6                                    Worries attacked   41.07  Moderate\n",
       "7                              Worries being insulted   46.67  Moderate\n",
       "8   Worries being subject to a physical attack bec...   26.79       Low\n",
       "9               Problem people using or dealing drugs   61.67      High\n",
       "10  Problem property crimes such as vandalism and ...   61.67      High\n",
       "11  Problem violent crimes such as assault and arm...   63.33      High\n",
       "12                     Problem corruption and bribery   70.00      High"
      ]
     },
     "execution_count": 10,
     "metadata": {},
     "output_type": "execute_result"
    }
   ],
   "source": [
    "crime = crime.rename(columns = {0 : 'Types of Crime', 2: 'Crime%', 3: 'Value'})\n",
    "crime"
   ]
  },
  {
   "cell_type": "code",
   "execution_count": 11,
   "id": "e4eadecc-ae9a-458b-8019-134b63332eb1",
   "metadata": {},
   "outputs": [],
   "source": [
    "crime.to_csv('Antigua_crime.csv', index=False)"
   ]
  },
  {
   "cell_type": "code",
   "execution_count": 12,
   "id": "b6097fac-0c57-4fc5-91e8-ff012085f329",
   "metadata": {},
   "outputs": [
    {
     "name": "stderr",
     "output_type": "stream",
     "text": [
      "C:\\Users\\debor\\AppData\\Local\\Temp\\ipykernel_38956\\2482010599.py:1: FutureWarning: Passing literal html to 'read_html' is deprecated and will be removed in a future version. To read from a literal string, wrap it in a 'StringIO' object.\n",
      "  safety = pd.read_html(str(soup.findAll('table', attrs={'class':'table_builder_with_value_explanation data_wide_table'})))[1]\n"
     ]
    }
   ],
   "source": [
    "safety = pd.read_html(str(soup.findAll('table', attrs={'class':'table_builder_with_value_explanation data_wide_table'})))[1]"
   ]
  },
  {
   "cell_type": "code",
   "execution_count": 13,
   "id": "2f22b3bb-5451-42ce-b399-3b30b1bbbe96",
   "metadata": {},
   "outputs": [],
   "source": [
    "safety = safety.drop(columns = [1])"
   ]
  },
  {
   "cell_type": "code",
   "execution_count": 14,
   "id": "899259b4-7d92-4f5e-8512-92f1eb08df0d",
   "metadata": {},
   "outputs": [
    {
     "data": {
      "text/html": [
       "<div>\n",
       "<style scoped>\n",
       "    .dataframe tbody tr th:only-of-type {\n",
       "        vertical-align: middle;\n",
       "    }\n",
       "\n",
       "    .dataframe tbody tr th {\n",
       "        vertical-align: top;\n",
       "    }\n",
       "\n",
       "    .dataframe thead th {\n",
       "        text-align: right;\n",
       "    }\n",
       "</style>\n",
       "<table border=\"1\" class=\"dataframe\">\n",
       "  <thead>\n",
       "    <tr style=\"text-align: right;\">\n",
       "      <th></th>\n",
       "      <th>Components of Safety</th>\n",
       "      <th>Safety%</th>\n",
       "      <th>Value</th>\n",
       "    </tr>\n",
       "  </thead>\n",
       "  <tbody>\n",
       "    <tr>\n",
       "      <th>0</th>\n",
       "      <td>Safety walking alone during daylight</td>\n",
       "      <td>65.0</td>\n",
       "      <td>High</td>\n",
       "    </tr>\n",
       "    <tr>\n",
       "      <th>1</th>\n",
       "      <td>Safety walking alone during night</td>\n",
       "      <td>40.0</td>\n",
       "      <td>Moderate</td>\n",
       "    </tr>\n",
       "  </tbody>\n",
       "</table>\n",
       "</div>"
      ],
      "text/plain": [
       "                   Components of Safety  Safety%     Value\n",
       "0  Safety walking alone during daylight     65.0      High\n",
       "1     Safety walking alone during night     40.0  Moderate"
      ]
     },
     "execution_count": 14,
     "metadata": {},
     "output_type": "execute_result"
    }
   ],
   "source": [
    "safety = safety.rename(columns = {0 : 'Components of Safety', 2: 'Safety%', 3: 'Value'})\n",
    "safety"
   ]
  },
  {
   "cell_type": "code",
   "execution_count": 15,
   "id": "a3b9c0fd-3232-4139-b24d-5f5e828bc731",
   "metadata": {},
   "outputs": [],
   "source": [
    "safety.to_csv('Antigua_safety.csv', index=False)"
   ]
  },
  {
   "cell_type": "markdown",
   "id": "60489ede-ad5d-465b-968f-f8fab6ff2dd6",
   "metadata": {},
   "source": [
    "## Health Care"
   ]
  },
  {
   "cell_type": "code",
   "execution_count": 17,
   "id": "f1af7c89-126a-4e7d-987c-51ead9cd1263",
   "metadata": {},
   "outputs": [],
   "source": [
    "URL = 'https://www.numbeo.com/health-care/country_result.jsp?country=Antigua+And+Barbuda'\n",
    "response = requests.get(URL)"
   ]
  },
  {
   "cell_type": "code",
   "execution_count": 18,
   "id": "1d5a7c49-106e-4e37-a57a-1e185a595e9c",
   "metadata": {},
   "outputs": [
    {
     "data": {
      "text/plain": [
       "200"
      ]
     },
     "execution_count": 18,
     "metadata": {},
     "output_type": "execute_result"
    }
   ],
   "source": [
    "response.status_code"
   ]
  },
  {
   "cell_type": "code",
   "execution_count": 19,
   "id": "2b627649-8249-40b2-8c55-00f2be054a31",
   "metadata": {},
   "outputs": [],
   "source": [
    "soup = BS(response.text)"
   ]
  },
  {
   "cell_type": "code",
   "execution_count": 20,
   "id": "ff474298-5304-4602-9b4b-150b38736e60",
   "metadata": {},
   "outputs": [
    {
     "name": "stderr",
     "output_type": "stream",
     "text": [
      "C:\\Users\\debor\\AppData\\Local\\Temp\\ipykernel_38956\\540973274.py:1: FutureWarning: Passing literal html to 'read_html' is deprecated and will be removed in a future version. To read from a literal string, wrap it in a 'StringIO' object.\n",
      "  health_care = pd.read_html(str(soup.find('table', attrs={'class':'table_builder_with_value_explanation data_wide_table'})))[0]\n"
     ]
    }
   ],
   "source": [
    "health_care = pd.read_html(str(soup.find('table', attrs={'class':'table_builder_with_value_explanation data_wide_table'})))[0]"
   ]
  },
  {
   "cell_type": "code",
   "execution_count": 21,
   "id": "ba413d70-2f9e-4b83-b490-9c3ed05549a3",
   "metadata": {},
   "outputs": [],
   "source": [
    "health_care = health_care.drop(columns = ['Satisfaction %'])"
   ]
  },
  {
   "cell_type": "code",
   "execution_count": 22,
   "id": "afa1f5e6-81cb-475b-aaba-22762dd10c43",
   "metadata": {},
   "outputs": [
    {
     "data": {
      "text/html": [
       "<div>\n",
       "<style scoped>\n",
       "    .dataframe tbody tr th:only-of-type {\n",
       "        vertical-align: middle;\n",
       "    }\n",
       "\n",
       "    .dataframe tbody tr th {\n",
       "        vertical-align: top;\n",
       "    }\n",
       "\n",
       "    .dataframe thead th {\n",
       "        text-align: right;\n",
       "    }\n",
       "</style>\n",
       "<table border=\"1\" class=\"dataframe\">\n",
       "  <thead>\n",
       "    <tr style=\"text-align: right;\">\n",
       "      <th></th>\n",
       "      <th>Component of health care surveyed</th>\n",
       "      <th>Satisfaction %</th>\n",
       "      <th>Value</th>\n",
       "    </tr>\n",
       "  </thead>\n",
       "  <tbody>\n",
       "    <tr>\n",
       "      <th>0</th>\n",
       "      <td>Skill and competency of medical staff</td>\n",
       "      <td>25.0</td>\n",
       "      <td>Low</td>\n",
       "    </tr>\n",
       "    <tr>\n",
       "      <th>1</th>\n",
       "      <td>Speed in completing examinations and reports</td>\n",
       "      <td>25.0</td>\n",
       "      <td>Low</td>\n",
       "    </tr>\n",
       "    <tr>\n",
       "      <th>2</th>\n",
       "      <td>Equipment for modern diagnosis and treatment</td>\n",
       "      <td>50.0</td>\n",
       "      <td>Moderate</td>\n",
       "    </tr>\n",
       "    <tr>\n",
       "      <th>3</th>\n",
       "      <td>Accuracy and completeness in filling out reports</td>\n",
       "      <td>25.0</td>\n",
       "      <td>Low</td>\n",
       "    </tr>\n",
       "    <tr>\n",
       "      <th>4</th>\n",
       "      <td>Friendliness and courtesy of the staff</td>\n",
       "      <td>50.0</td>\n",
       "      <td>Moderate</td>\n",
       "    </tr>\n",
       "    <tr>\n",
       "      <th>5</th>\n",
       "      <td>Satisfaction with responsiveness (waitings) in...</td>\n",
       "      <td>0.0</td>\n",
       "      <td>Very Low</td>\n",
       "    </tr>\n",
       "    <tr>\n",
       "      <th>6</th>\n",
       "      <td>Satisfaction with cost to you</td>\n",
       "      <td>25.0</td>\n",
       "      <td>Low</td>\n",
       "    </tr>\n",
       "    <tr>\n",
       "      <th>7</th>\n",
       "      <td>Convenience of location for you</td>\n",
       "      <td>50.0</td>\n",
       "      <td>Moderate</td>\n",
       "    </tr>\n",
       "  </tbody>\n",
       "</table>\n",
       "</div>"
      ],
      "text/plain": [
       "                   Component of health care surveyed  Satisfaction %     Value\n",
       "0              Skill and competency of medical staff            25.0       Low\n",
       "1       Speed in completing examinations and reports            25.0       Low\n",
       "2       Equipment for modern diagnosis and treatment            50.0  Moderate\n",
       "3   Accuracy and completeness in filling out reports            25.0       Low\n",
       "4             Friendliness and courtesy of the staff            50.0  Moderate\n",
       "5  Satisfaction with responsiveness (waitings) in...             0.0  Very Low\n",
       "6                      Satisfaction with cost to you            25.0       Low\n",
       "7                    Convenience of location for you            50.0  Moderate"
      ]
     },
     "execution_count": 22,
     "metadata": {},
     "output_type": "execute_result"
    }
   ],
   "source": [
    "health_care = health_care.rename(columns = {'Satisfaction %.1' : 'Satisfaction %', 'Unnamed: 3': 'Value'})\n",
    "health_care"
   ]
  },
  {
   "cell_type": "code",
   "execution_count": 23,
   "id": "0721942f-55f1-4a2a-8f8e-f68f4429d36a",
   "metadata": {},
   "outputs": [],
   "source": [
    "health_care.to_csv('Antigua_health_care.csv', index=False)"
   ]
  },
  {
   "cell_type": "markdown",
   "id": "554a8222-c00a-4c28-93b0-7b65da9b0844",
   "metadata": {},
   "source": [
    "## Pollution"
   ]
  },
  {
   "cell_type": "code",
   "execution_count": 25,
   "id": "bfbc4722-ca1f-4b94-94c7-cc9ced24051d",
   "metadata": {},
   "outputs": [],
   "source": [
    "URL = 'https://www.numbeo.com/pollution/country_result.jsp?country=Antigua+And+Barbuda'\n",
    "response = requests.get(URL)"
   ]
  },
  {
   "cell_type": "code",
   "execution_count": 26,
   "id": "55aa551e-5e86-4ffe-991f-8bf699680a57",
   "metadata": {},
   "outputs": [
    {
     "data": {
      "text/plain": [
       "200"
      ]
     },
     "execution_count": 26,
     "metadata": {},
     "output_type": "execute_result"
    }
   ],
   "source": [
    "response.status_code"
   ]
  },
  {
   "cell_type": "code",
   "execution_count": 27,
   "id": "c207c7d8-2e04-4826-8d38-6ea1718418f1",
   "metadata": {},
   "outputs": [],
   "source": [
    "soup = BS(response.text)"
   ]
  },
  {
   "cell_type": "code",
   "execution_count": 28,
   "id": "06368469-aa06-4831-9f20-c3894634ec21",
   "metadata": {},
   "outputs": [
    {
     "name": "stderr",
     "output_type": "stream",
     "text": [
      "C:\\Users\\debor\\AppData\\Local\\Temp\\ipykernel_38956\\1145219388.py:1: FutureWarning: Passing literal html to 'read_html' is deprecated and will be removed in a future version. To read from a literal string, wrap it in a 'StringIO' object.\n",
      "  pollution = pd.read_html(str(soup.findAll('table', attrs={'class':'table_builder_with_value_explanation'})))[0]\n"
     ]
    }
   ],
   "source": [
    "pollution = pd.read_html(str(soup.findAll('table', attrs={'class':'table_builder_with_value_explanation'})))[0]"
   ]
  },
  {
   "cell_type": "code",
   "execution_count": 29,
   "id": "1e104958-e5c6-44be-ac82-cedb63c7c8dd",
   "metadata": {},
   "outputs": [],
   "source": [
    "pollution = pollution.drop(columns = [1])"
   ]
  },
  {
   "cell_type": "code",
   "execution_count": 30,
   "id": "4c444e33-3b39-4627-b4a3-a3771b7e83bc",
   "metadata": {},
   "outputs": [
    {
     "data": {
      "text/html": [
       "<div>\n",
       "<style scoped>\n",
       "    .dataframe tbody tr th:only-of-type {\n",
       "        vertical-align: middle;\n",
       "    }\n",
       "\n",
       "    .dataframe tbody tr th {\n",
       "        vertical-align: top;\n",
       "    }\n",
       "\n",
       "    .dataframe thead th {\n",
       "        text-align: right;\n",
       "    }\n",
       "</style>\n",
       "<table border=\"1\" class=\"dataframe\">\n",
       "  <thead>\n",
       "    <tr style=\"text-align: right;\">\n",
       "      <th></th>\n",
       "      <th>Types of Pollution</th>\n",
       "      <th>Pollution%</th>\n",
       "      <th>Value</th>\n",
       "    </tr>\n",
       "  </thead>\n",
       "  <tbody>\n",
       "    <tr>\n",
       "      <th>0</th>\n",
       "      <td>Air Pollution</td>\n",
       "      <td>0.0</td>\n",
       "      <td>Very Low</td>\n",
       "    </tr>\n",
       "    <tr>\n",
       "      <th>1</th>\n",
       "      <td>Drinking Water Pollution and Inaccessibility</td>\n",
       "      <td>62.5</td>\n",
       "      <td>High</td>\n",
       "    </tr>\n",
       "    <tr>\n",
       "      <th>2</th>\n",
       "      <td>Dissatisfaction with Garbage Disposal</td>\n",
       "      <td>75.0</td>\n",
       "      <td>High</td>\n",
       "    </tr>\n",
       "    <tr>\n",
       "      <th>3</th>\n",
       "      <td>Dirty and Untidy</td>\n",
       "      <td>50.0</td>\n",
       "      <td>Moderate</td>\n",
       "    </tr>\n",
       "    <tr>\n",
       "      <th>4</th>\n",
       "      <td>Noise and Light Pollution</td>\n",
       "      <td>50.0</td>\n",
       "      <td>Moderate</td>\n",
       "    </tr>\n",
       "    <tr>\n",
       "      <th>5</th>\n",
       "      <td>Water Pollution</td>\n",
       "      <td>100.0</td>\n",
       "      <td>Very High</td>\n",
       "    </tr>\n",
       "    <tr>\n",
       "      <th>6</th>\n",
       "      <td>Dissatisfaction with Spending Time in the City</td>\n",
       "      <td>25.0</td>\n",
       "      <td>Low</td>\n",
       "    </tr>\n",
       "    <tr>\n",
       "      <th>7</th>\n",
       "      <td>Dissatisfaction with Green and Parks in the City</td>\n",
       "      <td>75.0</td>\n",
       "      <td>High</td>\n",
       "    </tr>\n",
       "  </tbody>\n",
       "</table>\n",
       "</div>"
      ],
      "text/plain": [
       "                                 Types of Pollution  Pollution%      Value\n",
       "0                                     Air Pollution         0.0   Very Low\n",
       "1      Drinking Water Pollution and Inaccessibility        62.5       High\n",
       "2             Dissatisfaction with Garbage Disposal        75.0       High\n",
       "3                                  Dirty and Untidy        50.0   Moderate\n",
       "4                         Noise and Light Pollution        50.0   Moderate\n",
       "5                                   Water Pollution       100.0  Very High\n",
       "6    Dissatisfaction with Spending Time in the City        25.0        Low\n",
       "7  Dissatisfaction with Green and Parks in the City        75.0       High"
      ]
     },
     "execution_count": 30,
     "metadata": {},
     "output_type": "execute_result"
    }
   ],
   "source": [
    "pollution = pollution.rename(columns = {0 : 'Types of Pollution', 2: 'Pollution%', 3: 'Value'})\n",
    "pollution"
   ]
  },
  {
   "cell_type": "code",
   "execution_count": 31,
   "id": "ddc3a9fc-b1d1-443f-89cd-485ed9ff1dce",
   "metadata": {},
   "outputs": [],
   "source": [
    "pollution.to_csv('Antigua_pollution.csv', index=False)"
   ]
  },
  {
   "cell_type": "code",
   "execution_count": 32,
   "id": "d4d8dbe7-b529-4055-a8de-5df986e3012c",
   "metadata": {},
   "outputs": [
    {
     "name": "stderr",
     "output_type": "stream",
     "text": [
      "C:\\Users\\debor\\AppData\\Local\\Temp\\ipykernel_38956\\219648668.py:1: FutureWarning: Passing literal html to 'read_html' is deprecated and will be removed in a future version. To read from a literal string, wrap it in a 'StringIO' object.\n",
      "  purity = pd.read_html(str(soup.findAll('table', attrs={'class':'table_builder_with_value_explanation data_wide_table'})))[1]\n"
     ]
    }
   ],
   "source": [
    "purity = pd.read_html(str(soup.findAll('table', attrs={'class':'table_builder_with_value_explanation data_wide_table'})))[1]"
   ]
  },
  {
   "cell_type": "code",
   "execution_count": 33,
   "id": "85619b19-c036-4523-9226-707f5f63bbdf",
   "metadata": {},
   "outputs": [],
   "source": [
    "purity = purity.drop(columns = [1])"
   ]
  },
  {
   "cell_type": "code",
   "execution_count": 34,
   "id": "e8251fff-6674-4ca7-aa56-ae754303d7da",
   "metadata": {},
   "outputs": [
    {
     "data": {
      "text/html": [
       "<div>\n",
       "<style scoped>\n",
       "    .dataframe tbody tr th:only-of-type {\n",
       "        vertical-align: middle;\n",
       "    }\n",
       "\n",
       "    .dataframe tbody tr th {\n",
       "        vertical-align: top;\n",
       "    }\n",
       "\n",
       "    .dataframe thead th {\n",
       "        text-align: right;\n",
       "    }\n",
       "</style>\n",
       "<table border=\"1\" class=\"dataframe\">\n",
       "  <thead>\n",
       "    <tr style=\"text-align: right;\">\n",
       "      <th></th>\n",
       "      <th>Types of Purity</th>\n",
       "      <th>Purity%</th>\n",
       "      <th>Value</th>\n",
       "    </tr>\n",
       "  </thead>\n",
       "  <tbody>\n",
       "    <tr>\n",
       "      <th>0</th>\n",
       "      <td>Air quality</td>\n",
       "      <td>100.0</td>\n",
       "      <td>Very High</td>\n",
       "    </tr>\n",
       "    <tr>\n",
       "      <th>1</th>\n",
       "      <td>Drinking Water Quality and Accessibility</td>\n",
       "      <td>37.5</td>\n",
       "      <td>Low</td>\n",
       "    </tr>\n",
       "    <tr>\n",
       "      <th>2</th>\n",
       "      <td>Garbage Disposal Satisfaction</td>\n",
       "      <td>25.0</td>\n",
       "      <td>Low</td>\n",
       "    </tr>\n",
       "    <tr>\n",
       "      <th>3</th>\n",
       "      <td>Clean and Tidy</td>\n",
       "      <td>50.0</td>\n",
       "      <td>Moderate</td>\n",
       "    </tr>\n",
       "    <tr>\n",
       "      <th>4</th>\n",
       "      <td>Quiet and No Problem with Night Lights</td>\n",
       "      <td>50.0</td>\n",
       "      <td>Moderate</td>\n",
       "    </tr>\n",
       "    <tr>\n",
       "      <th>5</th>\n",
       "      <td>Water Quality</td>\n",
       "      <td>0.0</td>\n",
       "      <td>Very Low</td>\n",
       "    </tr>\n",
       "    <tr>\n",
       "      <th>6</th>\n",
       "      <td>Comfortable to Spend Time in the City</td>\n",
       "      <td>75.0</td>\n",
       "      <td>High</td>\n",
       "    </tr>\n",
       "    <tr>\n",
       "      <th>7</th>\n",
       "      <td>Quality of Green and Parks</td>\n",
       "      <td>25.0</td>\n",
       "      <td>Low</td>\n",
       "    </tr>\n",
       "  </tbody>\n",
       "</table>\n",
       "</div>"
      ],
      "text/plain": [
       "                            Types of Purity  Purity%      Value\n",
       "0                               Air quality    100.0  Very High\n",
       "1  Drinking Water Quality and Accessibility     37.5        Low\n",
       "2             Garbage Disposal Satisfaction     25.0        Low\n",
       "3                            Clean and Tidy     50.0   Moderate\n",
       "4    Quiet and No Problem with Night Lights     50.0   Moderate\n",
       "5                             Water Quality      0.0   Very Low\n",
       "6     Comfortable to Spend Time in the City     75.0       High\n",
       "7                Quality of Green and Parks     25.0        Low"
      ]
     },
     "execution_count": 34,
     "metadata": {},
     "output_type": "execute_result"
    }
   ],
   "source": [
    "purity = purity.rename(columns = {0 : 'Types of Purity', 2: 'Purity%', 3: 'Value'})\n",
    "purity"
   ]
  },
  {
   "cell_type": "code",
   "execution_count": 35,
   "id": "538407da-14bd-4aff-b2c6-02060171a402",
   "metadata": {},
   "outputs": [],
   "source": [
    "purity.to_csv('Antigua_purity.csv', index=False)"
   ]
  }
 ],
 "metadata": {
  "kernelspec": {
   "display_name": "Python 3 (ipykernel)",
   "language": "python",
   "name": "python3"
  },
  "language_info": {
   "codemirror_mode": {
    "name": "ipython",
    "version": 3
   },
   "file_extension": ".py",
   "mimetype": "text/x-python",
   "name": "python",
   "nbconvert_exporter": "python",
   "pygments_lexer": "ipython3",
   "version": "3.11.7"
  }
 },
 "nbformat": 4,
 "nbformat_minor": 5
}
