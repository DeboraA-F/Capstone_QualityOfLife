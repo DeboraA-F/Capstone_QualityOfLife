{
 "cells": [
  {
   "cell_type": "code",
   "execution_count": 1,
   "id": "46374fef-fdc9-4552-a6e2-7c025c638474",
   "metadata": {},
   "outputs": [],
   "source": [
    "import requests\n",
    "from bs4 import BeautifulSoup as BS\n",
    "import pandas as pd"
   ]
  },
  {
   "cell_type": "markdown",
   "id": "81c979ac-71c7-48a1-bc00-7eeddfa7c0db",
   "metadata": {},
   "source": [
    "## Cost of Living"
   ]
  },
  {
   "cell_type": "code",
   "execution_count": 4,
   "id": "1217ae32-e177-41b2-9eec-e0eaf136946b",
   "metadata": {},
   "outputs": [],
   "source": [
    "URL = 'https://www.numbeo.com/cost-of-living/country_result.jsp?country=Japan&displayCurrency=USD'\n",
    "response = requests.get(URL)"
   ]
  },
  {
   "cell_type": "code",
   "execution_count": 5,
   "id": "0b13999a-4884-4eed-aa7d-731bb27b646f",
   "metadata": {},
   "outputs": [
    {
     "data": {
      "text/plain": [
       "200"
      ]
     },
     "execution_count": 5,
     "metadata": {},
     "output_type": "execute_result"
    }
   ],
   "source": [
    "response.status_code"
   ]
  },
  {
   "cell_type": "code",
   "execution_count": 6,
   "id": "e072fa36-8b9d-4712-8518-d09b1c1ac647",
   "metadata": {},
   "outputs": [],
   "source": [
    "soup = BS(response.text)"
   ]
  },
  {
   "cell_type": "code",
   "execution_count": 7,
   "id": "225a2b90-8422-44ec-998c-080ab6bdce9d",
   "metadata": {},
   "outputs": [
    {
     "data": {
      "text/plain": [
       "<table class=\"data_wide_table new_bar_table\"><tr> <th class=\"highlighted_th prices\"><span class=\"category_icon_wrapper\"><img alt=\"\" class=\"category_icon\" src=\"https://www.numbeo.com/images/categories/baseline-local-dining.svg\"/>\n",
       "</span>\n",
       "<div class=\"category_title\">Restaurants</div></th> <th class=\"highlighted_th th_no_highlight_a_right prices\"> <a class=\"edit_href\" href=\"https://www.numbeo.com/common/form.jsp?country=Japan&amp;returnUrl=https%3A%2F%2Fwww.numbeo.com%2Fcost-of-living%2Fcountry_result.jsp%3Fcountry%3DJapan%26displayCurrency%3DUSD&amp;current=0&amp;section=true&amp;tracking=editHref\" rel=\"nofollow\"><img alt=\"\" src=\"https://www.numbeo.com/images/baseline-edit.svg\" style=\"vertical-align: baseline; display: inline-block;\"/><span class=\"edit_link\"> Edit </span></a></th>\n",
       "<th class=\"th_no_highlight prices\" style=\"padding-left: 132px; text-align: left;\">Range</th>\n",
       "</tr>\n",
       "<tr><td>Meal, Inexpensive Restaurant </td> <td class=\"priceValue\" style=\"text-align: right\"> <span class=\"first_currency\">6.56 $</span></td>\n",
       "<td class=\"priceBarTd\">\n",
       "<span class=\"barTextLeft\">\n",
       "3.93</span><span class=\"barLeft\" style=\"width: 19px;\"></span><span class=\"barMid\"><span class=\"barMid-nocss\">-</span></span><span class=\"barRight\" style=\"width: 34px;\"></span><span class=\"barTextRight\">11.14</span></td>\n",
       "</tr>\n",
       "<tr><td class=\"tr_highlighted\">Meal for 2 People, Mid-range Restaurant, Three-course </td> <td class=\"priceValue tr_highlighted\" style=\"text-align: right\"> <span class=\"first_currency\">39.33 $</span></td>\n",
       "<td class=\"priceBarTd tr_highlighted\">\n",
       "<span class=\"barTextLeft\">\n",
       "26.22</span><span class=\"barLeft\" style=\"width: 9px;\"></span><span class=\"barMid\"><span class=\"barMid-nocss\">-</span></span><span class=\"barRight\" style=\"width: 67px;\"></span><span class=\"barTextRight\">131.11</span></td>\n",
       "</tr>\n",
       "<tr><td>McMeal at McDonalds (or Equivalent Combo Meal) </td> <td class=\"priceValue\" style=\"text-align: right\"> <span class=\"first_currency\">4.92 $</span></td>\n",
       "<td class=\"priceBarTd\">\n",
       "<span class=\"barTextLeft\">\n",
       "4.26</span><span class=\"barLeft\" style=\"width: 6px;\"></span><span class=\"barMid\"><span class=\"barMid-nocss\">-</span></span><span class=\"barRight\" style=\"width: 9px;\"></span><span class=\"barTextRight\">5.90</span></td>\n",
       "</tr>\n",
       "<tr><td class=\"tr_highlighted\">Domestic Beer (1 pint draught) </td> <td class=\"priceValue tr_highlighted\" style=\"text-align: right\"> <span class=\"first_currency\">2.95 $</span></td>\n",
       "<td class=\"priceBarTd tr_highlighted\">\n",
       "<span class=\"barTextLeft\">\n",
       "1.64</span><span class=\"barLeft\" style=\"width: 21px;\"></span><span class=\"barMid\"><span class=\"barMid-nocss\">-</span></span><span class=\"barRight\" style=\"width: 38px;\"></span><span class=\"barTextRight\">5.24</span></td>\n",
       "</tr>\n",
       "<tr><td>Imported Beer (12 oz small bottle) </td> <td class=\"priceValue\" style=\"text-align: right\"> <span class=\"first_currency\">3.61 $</span></td>\n",
       "<td class=\"priceBarTd\">\n",
       "<span class=\"barTextLeft\">\n",
       "2.16</span><span class=\"barLeft\" style=\"width: 19px;\"></span><span class=\"barMid\"><span class=\"barMid-nocss\">-</span></span><span class=\"barRight\" style=\"width: 40px;\"></span><span class=\"barTextRight\">6.56</span></td>\n",
       "</tr>\n",
       "<tr><td class=\"tr_highlighted\">Cappuccino (regular) </td> <td class=\"priceValue tr_highlighted\" style=\"text-align: right\"> <span class=\"first_currency\">3.00 $</span></td>\n",
       "<td class=\"priceBarTd tr_highlighted\">\n",
       "<span class=\"barTextLeft\">\n",
       "1.31</span><span class=\"barLeft\" style=\"width: 27px;\"></span><span class=\"barMid\"><span class=\"barMid-nocss\">-</span></span><span class=\"barRight\" style=\"width: 37px;\"></span><span class=\"barTextRight\">5.24</span></td>\n",
       "</tr>\n",
       "<tr><td>Coke/Pepsi (12 oz small bottle) </td> <td class=\"priceValue\" style=\"text-align: right\"> <span class=\"first_currency\">1.01 $</span></td>\n",
       "<td class=\"priceBarTd\">\n",
       "<span class=\"barTextLeft\">\n",
       "0.72</span><span class=\"barLeft\" style=\"width: 14px;\"></span><span class=\"barMid\"><span class=\"barMid-nocss\">-</span></span><span class=\"barRight\" style=\"width: 45px;\"></span><span class=\"barTextRight\">1.97</span></td>\n",
       "</tr>\n",
       "<tr><td class=\"tr_highlighted\">Water (12 oz small bottle)  </td> <td class=\"priceValue tr_highlighted\" style=\"text-align: right\"> <span class=\"first_currency\">0.74 $</span></td>\n",
       "<td class=\"priceBarTd tr_highlighted\">\n",
       "<span class=\"barTextLeft\">\n",
       "0.66</span><span class=\"barLeft\" style=\"width: 5px;\"></span><span class=\"barMid\"><span class=\"barMid-nocss\">-</span></span><span class=\"barRight\" style=\"width: 37px;\"></span><span class=\"barTextRight\">1.31</span></td>\n",
       "</tr>\n",
       "<tr> <th class=\"highlighted_th prices\"><span class=\"category_icon_wrapper\"><img alt=\"\" class=\"category_icon\" src=\"https://www.numbeo.com/images/categories/baseline-local-grocery-store.svg\"/>\n",
       "</span>\n",
       "<div class=\"category_title\">Markets</div></th> <th class=\"highlighted_th th_no_highlight_a_right prices\"> <a class=\"edit_href\" href=\"https://www.numbeo.com/common/form.jsp?country=Japan&amp;returnUrl=https%3A%2F%2Fwww.numbeo.com%2Fcost-of-living%2Fcountry_result.jsp%3Fcountry%3DJapan%26displayCurrency%3DUSD&amp;current=1&amp;section=true&amp;tracking=editHref\" rel=\"nofollow\"><img alt=\"\" src=\"https://www.numbeo.com/images/baseline-edit.svg\" style=\"vertical-align: baseline; display: inline-block;\"/><span class=\"edit_link\"> Edit </span></a></th>\n",
       "<th class=\"th_no_highlight prices\"></th>\n",
       "</tr>\n",
       "<tr><td>Milk (regular), (1 gallon) </td> <td class=\"priceValue\" style=\"text-align: right\"> <span class=\"first_currency\">5.38 $</span></td>\n",
       "<td class=\"priceBarTd\">\n",
       "<span class=\"barTextLeft\">\n",
       "3.97</span><span class=\"barLeft\" style=\"width: 12px;\"></span><span class=\"barMid\"><span class=\"barMid-nocss\">-</span></span><span class=\"barRight\" style=\"width: 16px;\"></span><span class=\"barTextRight\">7.25</span></td>\n",
       "</tr>\n",
       "<tr><td class=\"tr_highlighted\">Loaf of Fresh White Bread (1 lb) </td> <td class=\"priceValue tr_highlighted\" style=\"text-align: right\"> <span class=\"first_currency\">1.36 $</span></td>\n",
       "<td class=\"priceBarTd tr_highlighted\">\n",
       "<span class=\"barTextLeft\">\n",
       "0.71</span><span class=\"barLeft\" style=\"width: 23px;\"></span><span class=\"barMid\"><span class=\"barMid-nocss\">-</span></span><span class=\"barRight\" style=\"width: 58px;\"></span><span class=\"barTextRight\">2.97</span></td>\n",
       "</tr>\n",
       "<tr><td>Rice (white), (1 lb) </td> <td class=\"priceValue\" style=\"text-align: right\"> <span class=\"first_currency\">1.60 $</span></td>\n",
       "<td class=\"priceBarTd\">\n",
       "<span class=\"barTextLeft\">\n",
       "0.86</span><span class=\"barLeft\" style=\"width: 22px;\"></span><span class=\"barMid\"><span class=\"barMid-nocss\">-</span></span><span class=\"barRight\" style=\"width: 42px;\"></span><span class=\"barTextRight\">2.97</span></td>\n",
       "</tr>\n",
       "<tr><td class=\"tr_highlighted\">Eggs (regular) (12) </td> <td class=\"priceValue tr_highlighted\" style=\"text-align: right\"> <span class=\"first_currency\">2.13 $</span></td>\n",
       "<td class=\"priceBarTd tr_highlighted\">\n",
       "<span class=\"barTextLeft\">\n",
       "1.42</span><span class=\"barLeft\" style=\"width: 15px;\"></span><span class=\"barMid\"><span class=\"barMid-nocss\">-</span></span><span class=\"barRight\" style=\"width: 14px;\"></span><span class=\"barTextRight\">2.75</span></td>\n",
       "</tr>\n",
       "<tr><td>Local Cheese (1 lb) </td> <td class=\"priceValue\" style=\"text-align: right\"> <span class=\"first_currency\">5.07 $</span></td>\n",
       "<td class=\"priceBarTd\">\n",
       "<span class=\"barTextLeft\">\n",
       "2.38</span><span class=\"barLeft\" style=\"width: 16px;\"></span><span class=\"barMid\"><span class=\"barMid-nocss\">-</span></span><span class=\"barRight\" style=\"width: 60px;\"></span><span class=\"barTextRight\">14.87</span></td>\n",
       "</tr>\n",
       "<tr><td class=\"tr_highlighted\">Chicken Fillets (1 lb) </td> <td class=\"priceValue tr_highlighted\" style=\"text-align: right\"> <span class=\"first_currency\">2.83 $</span></td>\n",
       "<td class=\"priceBarTd tr_highlighted\">\n",
       "<span class=\"barTextLeft\">\n",
       "1.34</span><span class=\"barLeft\" style=\"width: 25px;\"></span><span class=\"barMid\"><span class=\"barMid-nocss\">-</span></span><span class=\"barRight\" style=\"width: 25px;\"></span><span class=\"barTextRight\">4.26</span></td>\n",
       "</tr>\n",
       "<tr><td>Beef Round (1 lb) (or Equivalent Back Leg Red Meat) </td> <td class=\"priceValue\" style=\"text-align: right\"> <span class=\"first_currency\">7.46 $</span></td>\n",
       "<td class=\"priceBarTd\">\n",
       "<span class=\"barTextLeft\">\n",
       "3.57</span><span class=\"barLeft\" style=\"width: 25px;\"></span><span class=\"barMid\"><span class=\"barMid-nocss\">-</span></span><span class=\"barRight\" style=\"width: 49px;\"></span><span class=\"barTextRight\">14.87</span></td>\n",
       "</tr>\n",
       "<tr><td class=\"tr_highlighted\">Apples (1 lb) </td> <td class=\"priceValue tr_highlighted\" style=\"text-align: right\"> <span class=\"first_currency\">2.12 $</span></td>\n",
       "<td class=\"priceBarTd tr_highlighted\">\n",
       "<span class=\"barTextLeft\">\n",
       "1.07</span><span class=\"barLeft\" style=\"width: 24px;\"></span><span class=\"barMid\"><span class=\"barMid-nocss\">-</span></span><span class=\"barRight\" style=\"width: 54px;\"></span><span class=\"barTextRight\">4.46</span></td>\n",
       "</tr>\n",
       "<tr><td>Banana (1 lb) </td> <td class=\"priceValue\" style=\"text-align: right\"> <span class=\"first_currency\">1.05 $</span></td>\n",
       "<td class=\"priceBarTd\">\n",
       "<span class=\"barTextLeft\">\n",
       "0.59</span><span class=\"barLeft\" style=\"width: 17px;\"></span><span class=\"barMid\"><span class=\"barMid-nocss\">-</span></span><span class=\"barRight\" style=\"width: 59px;\"></span><span class=\"barTextRight\">2.68</span></td>\n",
       "</tr>\n",
       "<tr><td class=\"tr_highlighted\">Oranges (1 lb) </td> <td class=\"priceValue tr_highlighted\" style=\"text-align: right\"> <span class=\"first_currency\">1.92 $</span></td>\n",
       "<td class=\"priceBarTd tr_highlighted\">\n",
       "<span class=\"barTextLeft\">\n",
       "0.59</span><span class=\"barLeft\" style=\"width: 26px;\"></span><span class=\"barMid\"><span class=\"barMid-nocss\">-</span></span><span class=\"barRight\" style=\"width: 50px;\"></span><span class=\"barTextRight\">4.46</span></td>\n",
       "</tr>\n",
       "<tr><td>Tomato (1 lb) </td> <td class=\"priceValue\" style=\"text-align: right\"> <span class=\"first_currency\">1.97 $</span></td>\n",
       "<td class=\"priceBarTd\">\n",
       "<span class=\"barTextLeft\">\n",
       "0.89</span><span class=\"barLeft\" style=\"width: 26px;\"></span><span class=\"barMid\"><span class=\"barMid-nocss\">-</span></span><span class=\"barRight\" style=\"width: 40px;\"></span><span class=\"barTextRight\">3.57</span></td>\n",
       "</tr>\n",
       "<tr><td class=\"tr_highlighted\">Potato (1 lb) </td> <td class=\"priceValue tr_highlighted\" style=\"text-align: right\"> <span class=\"first_currency\">1.20 $</span></td>\n",
       "<td class=\"priceBarTd tr_highlighted\">\n",
       "<span class=\"barTextLeft\">\n",
       "0.59</span><span class=\"barLeft\" style=\"width: 24px;\"></span><span class=\"barMid\"><span class=\"barMid-nocss\">-</span></span><span class=\"barRight\" style=\"width: 36px;\"></span><span class=\"barTextRight\">2.08</span></td>\n",
       "</tr>\n",
       "<tr><td>Onion (1 lb) </td> <td class=\"priceValue\" style=\"text-align: right\"> <span class=\"first_currency\">1.04 $</span></td>\n",
       "<td class=\"priceBarTd\">\n",
       "<span class=\"barTextLeft\">\n",
       "0.59</span><span class=\"barLeft\" style=\"width: 20px;\"></span><span class=\"barMid\"><span class=\"barMid-nocss\">-</span></span><span class=\"barRight\" style=\"width: 35px;\"></span><span class=\"barTextRight\">1.78</span></td>\n",
       "</tr>\n",
       "<tr><td class=\"tr_highlighted\">Lettuce (1 head) </td> <td class=\"priceValue tr_highlighted\" style=\"text-align: right\"> <span class=\"first_currency\">1.26 $</span></td>\n",
       "<td class=\"priceBarTd tr_highlighted\">\n",
       "<span class=\"barTextLeft\">\n",
       "0.66</span><span class=\"barLeft\" style=\"width: 23px;\"></span><span class=\"barMid\"><span class=\"barMid-nocss\">-</span></span><span class=\"barRight\" style=\"width: 27px;\"></span><span class=\"barTextRight\">1.97</span></td>\n",
       "</tr>\n",
       "<tr><td>Water (1.5 liter bottle) </td> <td class=\"priceValue\" style=\"text-align: right\"> <span class=\"first_currency\">0.83 $</span></td>\n",
       "<td class=\"priceBarTd\">\n",
       "<span class=\"barTextLeft\">\n",
       "0.52</span><span class=\"barLeft\" style=\"width: 17px;\"></span><span class=\"barMid\"><span class=\"barMid-nocss\">-</span></span><span class=\"barRight\" style=\"width: 28px;\"></span><span class=\"barTextRight\">1.31</span></td>\n",
       "</tr>\n",
       "<tr><td class=\"tr_highlighted\">Bottle of Wine (Mid-Range) </td> <td class=\"priceValue tr_highlighted\" style=\"text-align: right\"> <span class=\"first_currency\">7.87 $</span></td>\n",
       "<td class=\"priceBarTd tr_highlighted\">\n",
       "<span class=\"barTextLeft\">\n",
       "4.59</span><span class=\"barLeft\" style=\"width: 20px;\"></span><span class=\"barMid\"><span class=\"barMid-nocss\">-</span></span><span class=\"barRight\" style=\"width: 53px;\"></span><span class=\"barTextRight\">16.39</span></td>\n",
       "</tr>\n",
       "<tr><td>Domestic Beer (0.5 liter bottle) </td> <td class=\"priceValue\" style=\"text-align: right\"> <span class=\"first_currency\">2.02 $</span></td>\n",
       "<td class=\"priceBarTd\">\n",
       "<span class=\"barTextLeft\">\n",
       "1.31</span><span class=\"barLeft\" style=\"width: 16px;\"></span><span class=\"barMid\"><span class=\"barMid-nocss\">-</span></span><span class=\"barRight\" style=\"width: 23px;\"></span><span class=\"barTextRight\">2.95</span></td>\n",
       "</tr>\n",
       "<tr><td class=\"tr_highlighted\">Imported Beer (12 oz small bottle) </td> <td class=\"priceValue tr_highlighted\" style=\"text-align: right\"> <span class=\"first_currency\">2.69 $</span></td>\n",
       "<td class=\"priceBarTd tr_highlighted\">\n",
       "<span class=\"barTextLeft\">\n",
       "1.58</span><span class=\"barLeft\" style=\"width: 19px;\"></span><span class=\"barMid\"><span class=\"barMid-nocss\">-</span></span><span class=\"barRight\" style=\"width: 23px;\"></span><span class=\"barTextRight\">3.93</span></td>\n",
       "</tr>\n",
       "<tr><td>Cigarettes 20 Pack (Marlboro) </td> <td class=\"priceValue\" style=\"text-align: right\"> <span class=\"first_currency\">3.93 $</span></td>\n",
       "<td class=\"priceBarTd\">\n",
       "<span class=\"barTextLeft\">\n",
       "3.28</span><span class=\"barLeft\" style=\"width: 7px;\"></span><span class=\"barMid\"><span class=\"barMid-nocss\">-</span></span><span class=\"barRight\" style=\"width: 8px;\"></span><span class=\"barTextRight\">4.59</span></td>\n",
       "</tr>\n",
       "<tr> <th class=\"highlighted_th prices\"><span class=\"category_icon_wrapper\"><img alt=\"\" class=\"category_icon\" src=\"https://www.numbeo.com/images/categories/baseline-drive-eta.svg\"/>\n",
       "</span>\n",
       "<div class=\"category_title\">Transportation</div></th> <th class=\"highlighted_th th_no_highlight_a_right prices\"> <a class=\"edit_href\" href=\"https://www.numbeo.com/common/form.jsp?country=Japan&amp;returnUrl=https%3A%2F%2Fwww.numbeo.com%2Fcost-of-living%2Fcountry_result.jsp%3Fcountry%3DJapan%26displayCurrency%3DUSD&amp;current=2&amp;section=true&amp;tracking=editHref\" rel=\"nofollow\"><img alt=\"\" src=\"https://www.numbeo.com/images/baseline-edit.svg\" style=\"vertical-align: baseline; display: inline-block;\"/><span class=\"edit_link\"> Edit </span></a></th>\n",
       "<th class=\"th_no_highlight prices\"></th>\n",
       "</tr>\n",
       "<tr><td>One-way Ticket (Local Transport) </td> <td class=\"priceValue\" style=\"text-align: right\"> <span class=\"first_currency\">1.44 $</span></td>\n",
       "<td class=\"priceBarTd\">\n",
       "<span class=\"barTextLeft\">\n",
       "1.18</span><span class=\"barLeft\" style=\"width: 8px;\"></span><span class=\"barMid\"><span class=\"barMid-nocss\">-</span></span><span class=\"barRight\" style=\"width: 29px;\"></span><span class=\"barTextRight\">2.29</span></td>\n",
       "</tr>\n",
       "<tr><td class=\"tr_highlighted\">Monthly Pass (Regular Price) </td> <td class=\"priceValue tr_highlighted\" style=\"text-align: right\"> <span class=\"first_currency\">52.44 $</span></td>\n",
       "<td class=\"priceBarTd tr_highlighted\">\n",
       "<span class=\"barTextLeft\">\n",
       "32.78</span><span class=\"barLeft\" style=\"width: 18px;\"></span><span class=\"barMid\"><span class=\"barMid-nocss\">-</span></span><span class=\"barRight\" style=\"width: 49px;\"></span><span class=\"barTextRight\">104.89</span></td>\n",
       "</tr>\n",
       "<tr><td>Taxi Start (Normal Tariff) </td> <td class=\"priceValue\" style=\"text-align: right\"> <span class=\"first_currency\">3.83 $</span></td>\n",
       "<td class=\"priceBarTd\">\n",
       "<span class=\"barTextLeft\">\n",
       "3.28</span><span class=\"barLeft\" style=\"width: 6px;\"></span><span class=\"barMid\"><span class=\"barMid-nocss\">-</span></span><span class=\"barRight\" style=\"width: 16px;\"></span><span class=\"barTextRight\">5.11</span></td>\n",
       "</tr>\n",
       "<tr><td class=\"tr_highlighted\">Taxi 1 mile (Normal Tariff) </td> <td class=\"priceValue tr_highlighted\" style=\"text-align: right\"> <span class=\"first_currency\">4.59 $</span></td>\n",
       "<td class=\"priceBarTd tr_highlighted\">\n",
       "<span class=\"barTextLeft\">\n",
       "2.74</span><span class=\"barLeft\" style=\"width: 19px;\"></span><span class=\"barMid\"><span class=\"barMid-nocss\">-</span></span><span class=\"barRight\" style=\"width: 25px;\"></span><span class=\"barTextRight\">6.96</span></td>\n",
       "</tr>\n",
       "<tr><td>Taxi 1hour Waiting (Normal Tariff) </td> <td class=\"priceValue\" style=\"text-align: right\"> <span class=\"first_currency\">22.29 $</span></td>\n",
       "<td class=\"priceBarTd\">\n",
       "<span class=\"barTextLeft\">\n",
       "18.88</span><span class=\"barLeft\" style=\"width: 7px;\"></span><span class=\"barMid\"><span class=\"barMid-nocss\">-</span></span><span class=\"barRight\" style=\"width: 18px;\"></span><span class=\"barTextRight\">30.81</span></td>\n",
       "</tr>\n",
       "<tr><td class=\"tr_highlighted\">Gasoline (1 gallon) </td> <td class=\"priceValue tr_highlighted\" style=\"text-align: right\"> <span class=\"first_currency\">4.24 $</span></td>\n",
       "<td class=\"priceBarTd tr_highlighted\">\n",
       "<span class=\"barTextLeft\">\n",
       "3.95</span><span class=\"barLeft\" style=\"width: 2px;\"></span><span class=\"barMid\"><span class=\"barMid-nocss\">-</span></span><span class=\"barRight\" style=\"width: 3px;\"></span><span class=\"barTextRight\">4.49</span></td>\n",
       "</tr>\n",
       "<tr><td>Volkswagen Golf 1.4 90 KW Trendline (Or Equivalent New Car) </td> <td class=\"priceValue\" style=\"text-align: right\"> <span class=\"first_currency\">21,908.34 $</span></td>\n",
       "<td class=\"priceBarTd\">\n",
       "<span class=\"barTextLeft\">\n",
       "19,666.37</span><span class=\"barLeft\" style=\"width: 3px;\"></span><span class=\"barMid\"><span class=\"barMid-nocss\">-</span></span><span class=\"barRight\" style=\"width: 2px;\"></span><span class=\"barTextRight\">22,360.66</span></td>\n",
       "</tr>\n",
       "<tr><td class=\"tr_highlighted\">Toyota Corolla Sedan 1.6l 97kW Comfort (Or Equivalent New Car) </td> <td class=\"priceValue tr_highlighted\" style=\"text-align: right\"> <span class=\"first_currency\">16,561.83 $</span></td>\n",
       "<td class=\"priceBarTd tr_highlighted\">\n",
       "<span class=\"barTextLeft\">\n",
       "16,060.87</span><span class=\"barLeft\" style=\"width: 1px;\"></span><span class=\"barMid\"><span class=\"barMid-nocss\">-</span></span><span class=\"barRight\" style=\"width: 8px;\"></span><span class=\"barTextRight\">19,600.81</span></td>\n",
       "</tr>\n",
       "<tr> <th class=\"highlighted_th prices\"><span class=\"category_icon_wrapper\"><img alt=\"\" class=\"category_icon\" src=\"https://www.numbeo.com/images/categories/envelope-letter.svg\"/>\n",
       "</span>\n",
       "<div class=\"category_title\">Utilities (Monthly)</div></th> <th class=\"highlighted_th th_no_highlight_a_right prices\"> <a class=\"edit_href\" href=\"https://www.numbeo.com/common/form.jsp?country=Japan&amp;returnUrl=https%3A%2F%2Fwww.numbeo.com%2Fcost-of-living%2Fcountry_result.jsp%3Fcountry%3DJapan%26displayCurrency%3DUSD&amp;current=3&amp;section=true&amp;tracking=editHref\" rel=\"nofollow\"><img alt=\"\" src=\"https://www.numbeo.com/images/baseline-edit.svg\" style=\"vertical-align: baseline; display: inline-block;\"/><span class=\"edit_link\"> Edit </span></a></th>\n",
       "<th class=\"th_no_highlight prices\"></th>\n",
       "</tr>\n",
       "<tr><td>Basic (Electricity, Heating, Cooling, Water, Garbage) for 915 sq ft Apartment </td> <td class=\"priceValue\" style=\"text-align: right\"> <span class=\"first_currency\">165.54 $</span></td>\n",
       "<td class=\"priceBarTd\">\n",
       "<span class=\"barTextLeft\">\n",
       "99.06</span><span class=\"barLeft\" style=\"width: 19px;\"></span><span class=\"barMid\"><span class=\"barMid-nocss\">-</span></span><span class=\"barRight\" style=\"width: 40px;\"></span><span class=\"barTextRight\">301.55</span></td>\n",
       "</tr>\n",
       "<tr><td class=\"tr_highlighted\">Mobile Phone Monthly Plan with Calls and 10GB+ Data </td> <td class=\"priceValue tr_highlighted\" style=\"text-align: right\"> <span class=\"first_currency\">25.46 $</span></td>\n",
       "<td class=\"priceBarTd tr_highlighted\">\n",
       "<span class=\"barTextLeft\">\n",
       "14.42</span><span class=\"barLeft\" style=\"width: 20px;\"></span><span class=\"barMid\"><span class=\"barMid-nocss\">-</span></span><span class=\"barRight\" style=\"width: 34px;\"></span><span class=\"barTextRight\">42.98</span></td>\n",
       "</tr>\n",
       "<tr><td>Internet (60 Mbps or More, Unlimited Data, Cable/ADSL) </td> <td class=\"priceValue\" style=\"text-align: right\"> <span class=\"first_currency\">32.94 $</span></td>\n",
       "<td class=\"priceBarTd\">\n",
       "<span class=\"barTextLeft\">\n",
       "26.22</span><span class=\"barLeft\" style=\"width: 9px;\"></span><span class=\"barMid\"><span class=\"barMid-nocss\">-</span></span><span class=\"barRight\" style=\"width: 19px;\"></span><span class=\"barTextRight\">45.89</span></td>\n",
       "</tr>\n",
       "<tr> <th class=\"highlighted_th prices\"><span class=\"category_icon_wrapper\"><img alt=\"\" class=\"category_icon\" src=\"https://www.numbeo.com/images/categories/baseline-directions-bike.svg\"/>\n",
       "</span>\n",
       "<div class=\"category_title\">Sports And Leisure</div></th> <th class=\"highlighted_th th_no_highlight_a_right prices\"> <a class=\"edit_href\" href=\"https://www.numbeo.com/common/form.jsp?country=Japan&amp;returnUrl=https%3A%2F%2Fwww.numbeo.com%2Fcost-of-living%2Fcountry_result.jsp%3Fcountry%3DJapan%26displayCurrency%3DUSD&amp;current=4&amp;section=true&amp;tracking=editHref\" rel=\"nofollow\"><img alt=\"\" src=\"https://www.numbeo.com/images/baseline-edit.svg\" style=\"vertical-align: baseline; display: inline-block;\"/><span class=\"edit_link\"> Edit </span></a></th>\n",
       "<th class=\"th_no_highlight prices\"></th>\n",
       "</tr>\n",
       "<tr><td>Fitness Club, Monthly Fee for 1 Adult </td> <td class=\"priceValue\" style=\"text-align: right\"> <span class=\"first_currency\">56.24 $</span></td>\n",
       "<td class=\"priceBarTd\">\n",
       "<span class=\"barTextLeft\">\n",
       "32.78</span><span class=\"barLeft\" style=\"width: 19px;\"></span><span class=\"barMid\"><span class=\"barMid-nocss\">-</span></span><span class=\"barRight\" style=\"width: 20px;\"></span><span class=\"barTextRight\">78.67</span></td>\n",
       "</tr>\n",
       "<tr><td class=\"tr_highlighted\">Tennis Court Rent (1 Hour on Weekend) </td> <td class=\"priceValue tr_highlighted\" style=\"text-align: right\"> <span class=\"first_currency\">17.00 $</span></td>\n",
       "<td class=\"priceBarTd tr_highlighted\">\n",
       "<span class=\"barTextLeft\">\n",
       "6.56</span><span class=\"barLeft\" style=\"width: 29px;\"></span><span class=\"barMid\"><span class=\"barMid-nocss\">-</span></span><span class=\"barRight\" style=\"width: 27px;\"></span><span class=\"barTextRight\">26.22</span></td>\n",
       "</tr>\n",
       "<tr><td>Cinema, International Release, 1 Seat </td> <td class=\"priceValue\" style=\"text-align: right\"> <span class=\"first_currency\">12.13 $</span></td>\n",
       "<td class=\"priceBarTd\">\n",
       "<span class=\"barTextLeft\">\n",
       "9.83</span><span class=\"barLeft\" style=\"width: 8px;\"></span><span class=\"barMid\"><span class=\"barMid-nocss\">-</span></span><span class=\"barRight\" style=\"width: 17px;\"></span><span class=\"barTextRight\">16.39</span></td>\n",
       "</tr>\n",
       "<tr> <th class=\"highlighted_th prices\"><span class=\"category_icon_wrapper\"><img alt=\"\" class=\"category_icon\" src=\"https://www.numbeo.com/images/categories/sharp-child-friendly.svg\"/>\n",
       "</span>\n",
       "<div class=\"category_title\">Childcare</div></th> <th class=\"highlighted_th th_no_highlight_a_right prices\"> <a class=\"edit_href\" href=\"https://www.numbeo.com/common/form.jsp?country=Japan&amp;returnUrl=https%3A%2F%2Fwww.numbeo.com%2Fcost-of-living%2Fcountry_result.jsp%3Fcountry%3DJapan%26displayCurrency%3DUSD&amp;current=5&amp;section=true&amp;tracking=editHref\" rel=\"nofollow\"><img alt=\"\" src=\"https://www.numbeo.com/images/baseline-edit.svg\" style=\"vertical-align: baseline; display: inline-block;\"/><span class=\"edit_link\"> Edit </span></a></th>\n",
       "<th class=\"th_no_highlight prices\"></th>\n",
       "</tr>\n",
       "<tr><td>Preschool (or Kindergarten), Full Day, Private, Monthly for 1 Child </td> <td class=\"priceValue\" style=\"text-align: right\"> <span class=\"first_currency\">348.89 $</span></td>\n",
       "<td class=\"priceBarTd\">\n",
       "<span class=\"barTextLeft\">\n",
       "196.66</span><span class=\"barLeft\" style=\"width: 21px;\"></span><span class=\"barMid\"><span class=\"barMid-nocss\">-</span></span><span class=\"barRight\" style=\"width: 43px;\"></span><span class=\"barTextRight\">655.55</span></td>\n",
       "</tr>\n",
       "<tr><td class=\"tr_highlighted\">International Primary School, Yearly for 1 Child </td> <td class=\"priceValue tr_highlighted\" style=\"text-align: right\"> <span class=\"first_currency\">12,881.62 $</span></td>\n",
       "<td class=\"priceBarTd tr_highlighted\">\n",
       "<span class=\"barTextLeft\">\n",
       "7,866.55</span><span class=\"barLeft\" style=\"width: 18px;\"></span><span class=\"barMid\"><span class=\"barMid-nocss\">-</span></span><span class=\"barRight\" style=\"width: 26px;\"></span><span class=\"barTextRight\">19,666.37</span></td>\n",
       "</tr>\n",
       "<tr> <th class=\"highlighted_th prices\"><span class=\"category_icon_wrapper\"><img alt=\"\" class=\"category_icon\" src=\"https://www.numbeo.com/images/categories/clothing-store.svg\"/>\n",
       "</span>\n",
       "<div class=\"category_title\">Clothing And Shoes</div></th> <th class=\"highlighted_th th_no_highlight_a_right prices\"> <a class=\"edit_href\" href=\"https://www.numbeo.com/common/form.jsp?country=Japan&amp;returnUrl=https%3A%2F%2Fwww.numbeo.com%2Fcost-of-living%2Fcountry_result.jsp%3Fcountry%3DJapan%26displayCurrency%3DUSD&amp;current=6&amp;section=true&amp;tracking=editHref\" rel=\"nofollow\"><img alt=\"\" src=\"https://www.numbeo.com/images/baseline-edit.svg\" style=\"vertical-align: baseline; display: inline-block;\"/><span class=\"edit_link\"> Edit </span></a></th>\n",
       "<th class=\"th_no_highlight prices\"></th>\n",
       "</tr>\n",
       "<tr><td>1 Pair of Jeans (Levis 501 Or Similar) </td> <td class=\"priceValue\" style=\"text-align: right\"> <span class=\"first_currency\">42.90 $</span></td>\n",
       "<td class=\"priceBarTd\">\n",
       "<span class=\"barTextLeft\">\n",
       "19.60</span><span class=\"barLeft\" style=\"width: 26px;\"></span><span class=\"barMid\"><span class=\"barMid-nocss\">-</span></span><span class=\"barRight\" style=\"width: 26px;\"></span><span class=\"barTextRight\">65.55</span></td>\n",
       "</tr>\n",
       "<tr><td class=\"tr_highlighted\">1 Summer Dress in a Chain Store (Zara, H&amp;M, ...) </td> <td class=\"priceValue tr_highlighted\" style=\"text-align: right\"> <span class=\"first_currency\">30.29 $</span></td>\n",
       "<td class=\"priceBarTd tr_highlighted\">\n",
       "<span class=\"barTextLeft\">\n",
       "13.11</span><span class=\"barLeft\" style=\"width: 27px;\"></span><span class=\"barMid\"><span class=\"barMid-nocss\">-</span></span><span class=\"barRight\" style=\"width: 36px;\"></span><span class=\"barTextRight\">52.44</span></td>\n",
       "</tr>\n",
       "<tr><td>1 Pair of Nike Running Shoes (Mid-Range) </td> <td class=\"priceValue\" style=\"text-align: right\"> <span class=\"first_currency\">56.37 $</span></td>\n",
       "<td class=\"priceBarTd\">\n",
       "<span class=\"barTextLeft\">\n",
       "32.78</span><span class=\"barLeft\" style=\"width: 20px;\"></span><span class=\"barMid\"><span class=\"barMid-nocss\">-</span></span><span class=\"barRight\" style=\"width: 19px;\"></span><span class=\"barTextRight\">78.67</span></td>\n",
       "</tr>\n",
       "<tr><td class=\"tr_highlighted\">1 Pair of Men Leather Business Shoes </td> <td class=\"priceValue tr_highlighted\" style=\"text-align: right\"> <span class=\"first_currency\">80.05 $</span></td>\n",
       "<td class=\"priceBarTd tr_highlighted\">\n",
       "<span class=\"barTextLeft\">\n",
       "32.78</span><span class=\"barLeft\" style=\"width: 28px;\"></span><span class=\"barMid\"><span class=\"barMid-nocss\">-</span></span><span class=\"barRight\" style=\"width: 31px;\"></span><span class=\"barTextRight\">131.11</span></td>\n",
       "</tr>\n",
       "<tr> <th class=\"highlighted_th prices\"><span class=\"category_icon_wrapper\"><img alt=\"\" class=\"category_icon\" src=\"https://www.numbeo.com/images/categories/bed.svg\"/>\n",
       "</span>\n",
       "<div class=\"category_title\">Rent Per Month</div></th> <th class=\"highlighted_th th_no_highlight_a_right prices\"> <a class=\"edit_href\" href=\"https://www.numbeo.com/common/form.jsp?country=Japan&amp;returnUrl=https%3A%2F%2Fwww.numbeo.com%2Fcost-of-living%2Fcountry_result.jsp%3Fcountry%3DJapan%26displayCurrency%3DUSD&amp;current=7&amp;section=true&amp;tracking=editHref\" rel=\"nofollow\"><img alt=\"\" src=\"https://www.numbeo.com/images/baseline-edit.svg\" style=\"vertical-align: baseline; display: inline-block;\"/><span class=\"edit_link\"> Edit </span></a></th>\n",
       "<th class=\"th_no_highlight prices\"></th>\n",
       "</tr>\n",
       "<tr><td>Apartment (1 bedroom) in City Centre </td> <td class=\"priceValue\" style=\"text-align: right\"> <span class=\"first_currency\">553.12 $</span></td>\n",
       "<td class=\"priceBarTd\">\n",
       "<span class=\"barTextLeft\">\n",
       "360.55</span><span class=\"barLeft\" style=\"width: 17px;\"></span><span class=\"barMid\"><span class=\"barMid-nocss\">-</span></span><span class=\"barRight\" style=\"width: 52px;\"></span><span class=\"barTextRight\">1,140.65</span></td>\n",
       "</tr>\n",
       "<tr><td class=\"tr_highlighted\">Apartment (1 bedroom) Outside of Centre </td> <td class=\"priceValue tr_highlighted\" style=\"text-align: right\"> <span class=\"first_currency\">364.09 $</span></td>\n",
       "<td class=\"priceBarTd tr_highlighted\">\n",
       "<span class=\"barTextLeft\">\n",
       "262.22</span><span class=\"barLeft\" style=\"width: 13px;\"></span><span class=\"barMid\"><span class=\"barMid-nocss\">-</span></span><span class=\"barRight\" style=\"width: 39px;\"></span><span class=\"barTextRight\">655.55</span></td>\n",
       "</tr>\n",
       "<tr><td>Apartment (3 bedrooms) in City Centre </td> <td class=\"priceValue\" style=\"text-align: right\"> <span class=\"first_currency\">1,138.31 $</span></td>\n",
       "<td class=\"priceBarTd\">\n",
       "<span class=\"barTextLeft\">\n",
       "622.77</span><span class=\"barLeft\" style=\"width: 17px;\"></span><span class=\"barMid\"><span class=\"barMid-nocss\">-</span></span><span class=\"barRight\" style=\"width: 59px;\"></span><span class=\"barTextRight\">2,949.96</span></td>\n",
       "</tr>\n",
       "<tr><td class=\"tr_highlighted\">Apartment (3 bedrooms) Outside of Centre </td> <td class=\"priceValue tr_highlighted\" style=\"text-align: right\"> <span class=\"first_currency\">726.03 $</span></td>\n",
       "<td class=\"priceBarTd tr_highlighted\">\n",
       "<span class=\"barTextLeft\">\n",
       "458.88</span><span class=\"barLeft\" style=\"width: 18px;\"></span><span class=\"barMid\"><span class=\"barMid-nocss\">-</span></span><span class=\"barRight\" style=\"width: 61px;\"></span><span class=\"barTextRight\">1,638.86</span></td>\n",
       "</tr>\n",
       "<tr> <th class=\"highlighted_th prices\"><span class=\"category_icon_wrapper\"><img alt=\"\" class=\"category_icon\" src=\"https://www.numbeo.com/images/categories/outline-apartment.svg\"/>\n",
       "</span>\n",
       "<div class=\"category_title\">Buy Apartment Price</div></th> <th class=\"highlighted_th th_no_highlight_a_right prices\"> <a class=\"edit_href\" href=\"https://www.numbeo.com/common/form.jsp?country=Japan&amp;returnUrl=https%3A%2F%2Fwww.numbeo.com%2Fcost-of-living%2Fcountry_result.jsp%3Fcountry%3DJapan%26displayCurrency%3DUSD&amp;current=8&amp;section=true&amp;tracking=editHref\" rel=\"nofollow\"><img alt=\"\" src=\"https://www.numbeo.com/images/baseline-edit.svg\" style=\"vertical-align: baseline; display: inline-block;\"/><span class=\"edit_link\"> Edit </span></a></th>\n",
       "<th class=\"th_no_highlight prices\"></th>\n",
       "</tr>\n",
       "<tr><td>Price per Square Feet to Buy Apartment in City Centre </td> <td class=\"priceValue\" style=\"text-align: right\"> <span class=\"first_currency\">474.64 $</span></td>\n",
       "<td class=\"priceBarTd\">\n",
       "<span class=\"barTextLeft\">\n",
       "194.89</span><span class=\"barLeft\" style=\"width: 23px;\"></span><span class=\"barMid\"><span class=\"barMid-nocss\">-</span></span><span class=\"barRight\" style=\"width: 52px;\"></span><span class=\"barTextRight\">1,077.96</span></td>\n",
       "</tr>\n",
       "<tr><td class=\"tr_highlighted\">Price per Square Feet to Buy Apartment Outside of Centre </td> <td class=\"priceValue tr_highlighted\" style=\"text-align: right\"> <span class=\"first_currency\">277.01 $</span></td>\n",
       "<td class=\"priceBarTd tr_highlighted\">\n",
       "<span class=\"barTextLeft\">\n",
       "130.75</span><span class=\"barLeft\" style=\"width: 25px;\"></span><span class=\"barMid\"><span class=\"barMid-nocss\">-</span></span><span class=\"barRight\" style=\"width: 53px;\"></span><span class=\"barTextRight\">572.48</span></td>\n",
       "</tr>\n",
       "<tr> <th class=\"highlighted_th prices\"><span class=\"category_icon_wrapper\"><img alt=\"\" class=\"category_icon\" src=\"https://www.numbeo.com/images/categories/wallet-solid.svg\"/>\n",
       "</span>\n",
       "<div class=\"category_title\">Salaries And Financing</div></th> <th class=\"highlighted_th th_no_highlight_a_right prices\"> <a class=\"edit_href\" href=\"https://www.numbeo.com/common/form.jsp?country=Japan&amp;returnUrl=https%3A%2F%2Fwww.numbeo.com%2Fcost-of-living%2Fcountry_result.jsp%3Fcountry%3DJapan%26displayCurrency%3DUSD&amp;current=9&amp;section=true&amp;tracking=editHref\" rel=\"nofollow\"><img alt=\"\" src=\"https://www.numbeo.com/images/baseline-edit.svg\" style=\"vertical-align: baseline; display: inline-block;\"/><span class=\"edit_link\"> Edit </span></a></th>\n",
       "<th class=\"th_no_highlight prices\"></th>\n",
       "</tr>\n",
       "<tr><td>Average Monthly Net Salary (After Tax) </td> <td class=\"priceValue\" style=\"text-align: right\"> <span class=\"first_currency\">2,178.34 $</span></td>\n",
       "<td class=\"priceBarTd\"></td>\n",
       "</tr>\n",
       "<tr><td class=\"tr_highlighted\">Mortgage Interest Rate in Percentages (%), Yearly, for 20 Years Fixed-Rate </td> <td class=\"priceValue tr_highlighted\" style=\"text-align: right\"> <span class=\"first_currency\">1.75</span></td>\n",
       "<td class=\"priceBarTd tr_highlighted\">\n",
       "<span class=\"barTextLeft\">\n",
       "1.00</span><span class=\"barLeft\" style=\"width: 20px;\"></span><span class=\"barMid\"><span class=\"barMid-nocss\">-</span></span><span class=\"barRight\" style=\"width: 14px;\"></span><span class=\"barTextRight\">2.25</span></td>\n",
       "</tr>\n",
       "</table>"
      ]
     },
     "execution_count": 7,
     "metadata": {},
     "output_type": "execute_result"
    }
   ],
   "source": [
    "soup.find('table', attrs={'class':'data_wide_table new_bar_table'})"
   ]
  },
  {
   "cell_type": "code",
   "execution_count": 8,
   "id": "ff0535b2-fb5f-4ca2-bc61-a5515c7bb6bc",
   "metadata": {},
   "outputs": [
    {
     "name": "stderr",
     "output_type": "stream",
     "text": [
      "C:\\Users\\debor\\AppData\\Local\\Temp\\ipykernel_91792\\2882931658.py:1: FutureWarning: Passing literal html to 'read_html' is deprecated and will be removed in a future version. To read from a literal string, wrap it in a 'StringIO' object.\n",
      "  cost_of_living = pd.read_html(str(soup.find('table', attrs={'class':'data_wide_table new_bar_table'})))[0]\n"
     ]
    },
    {
     "data": {
      "text/html": [
       "<div>\n",
       "<style scoped>\n",
       "    .dataframe tbody tr th:only-of-type {\n",
       "        vertical-align: middle;\n",
       "    }\n",
       "\n",
       "    .dataframe tbody tr th {\n",
       "        vertical-align: top;\n",
       "    }\n",
       "\n",
       "    .dataframe thead th {\n",
       "        text-align: right;\n",
       "    }\n",
       "</style>\n",
       "<table border=\"1\" class=\"dataframe\">\n",
       "  <thead>\n",
       "    <tr style=\"text-align: right;\">\n",
       "      <th></th>\n",
       "      <th>Restaurants</th>\n",
       "      <th>Edit</th>\n",
       "      <th>Range</th>\n",
       "    </tr>\n",
       "  </thead>\n",
       "  <tbody>\n",
       "    <tr>\n",
       "      <th>0</th>\n",
       "      <td>Meal, Inexpensive Restaurant</td>\n",
       "      <td>6.56 $</td>\n",
       "      <td>3.93-11.14</td>\n",
       "    </tr>\n",
       "    <tr>\n",
       "      <th>1</th>\n",
       "      <td>Meal for 2 People, Mid-range Restaurant, Three...</td>\n",
       "      <td>39.33 $</td>\n",
       "      <td>26.22-131.11</td>\n",
       "    </tr>\n",
       "    <tr>\n",
       "      <th>2</th>\n",
       "      <td>McMeal at McDonalds (or Equivalent Combo Meal)</td>\n",
       "      <td>4.92 $</td>\n",
       "      <td>4.26-5.90</td>\n",
       "    </tr>\n",
       "    <tr>\n",
       "      <th>3</th>\n",
       "      <td>Domestic Beer (1 pint draught)</td>\n",
       "      <td>2.95 $</td>\n",
       "      <td>1.64-5.24</td>\n",
       "    </tr>\n",
       "    <tr>\n",
       "      <th>4</th>\n",
       "      <td>Imported Beer (12 oz small bottle)</td>\n",
       "      <td>3.61 $</td>\n",
       "      <td>2.16-6.56</td>\n",
       "    </tr>\n",
       "    <tr>\n",
       "      <th>...</th>\n",
       "      <td>...</td>\n",
       "      <td>...</td>\n",
       "      <td>...</td>\n",
       "    </tr>\n",
       "    <tr>\n",
       "      <th>59</th>\n",
       "      <td>Price per Square Feet to Buy Apartment in City...</td>\n",
       "      <td>474.64 $</td>\n",
       "      <td>194.89-1,077.96</td>\n",
       "    </tr>\n",
       "    <tr>\n",
       "      <th>60</th>\n",
       "      <td>Price per Square Feet to Buy Apartment Outside...</td>\n",
       "      <td>277.01 $</td>\n",
       "      <td>130.75-572.48</td>\n",
       "    </tr>\n",
       "    <tr>\n",
       "      <th>61</th>\n",
       "      <td>Salaries And Financing</td>\n",
       "      <td>Edit</td>\n",
       "      <td>NaN</td>\n",
       "    </tr>\n",
       "    <tr>\n",
       "      <th>62</th>\n",
       "      <td>Average Monthly Net Salary (After Tax)</td>\n",
       "      <td>2,178.34 $</td>\n",
       "      <td>NaN</td>\n",
       "    </tr>\n",
       "    <tr>\n",
       "      <th>63</th>\n",
       "      <td>Mortgage Interest Rate in Percentages (%), Yea...</td>\n",
       "      <td>1.75</td>\n",
       "      <td>1.00-2.25</td>\n",
       "    </tr>\n",
       "  </tbody>\n",
       "</table>\n",
       "<p>64 rows × 3 columns</p>\n",
       "</div>"
      ],
      "text/plain": [
       "                                          Restaurants        Edit  \\\n",
       "0                        Meal, Inexpensive Restaurant      6.56 $   \n",
       "1   Meal for 2 People, Mid-range Restaurant, Three...     39.33 $   \n",
       "2      McMeal at McDonalds (or Equivalent Combo Meal)      4.92 $   \n",
       "3                      Domestic Beer (1 pint draught)      2.95 $   \n",
       "4                  Imported Beer (12 oz small bottle)      3.61 $   \n",
       "..                                                ...         ...   \n",
       "59  Price per Square Feet to Buy Apartment in City...    474.64 $   \n",
       "60  Price per Square Feet to Buy Apartment Outside...    277.01 $   \n",
       "61                             Salaries And Financing        Edit   \n",
       "62             Average Monthly Net Salary (After Tax)  2,178.34 $   \n",
       "63  Mortgage Interest Rate in Percentages (%), Yea...        1.75   \n",
       "\n",
       "              Range  \n",
       "0        3.93-11.14  \n",
       "1      26.22-131.11  \n",
       "2         4.26-5.90  \n",
       "3         1.64-5.24  \n",
       "4         2.16-6.56  \n",
       "..              ...  \n",
       "59  194.89-1,077.96  \n",
       "60    130.75-572.48  \n",
       "61              NaN  \n",
       "62              NaN  \n",
       "63        1.00-2.25  \n",
       "\n",
       "[64 rows x 3 columns]"
      ]
     },
     "execution_count": 8,
     "metadata": {},
     "output_type": "execute_result"
    }
   ],
   "source": [
    "cost_of_living = pd.read_html(str(soup.find('table', attrs={'class':'data_wide_table new_bar_table'})))[0]\n",
    "cost_of_living"
   ]
  },
  {
   "cell_type": "code",
   "execution_count": 9,
   "id": "7f77c2bb-dc3c-4723-9875-25f3217c68a1",
   "metadata": {},
   "outputs": [],
   "source": [
    "cost_of_living.to_csv('Tokyo_Cost_of_Living.csv', index=False)"
   ]
  },
  {
   "cell_type": "markdown",
   "id": "2ef99df8-b132-4e84-8fba-a00e3ce96fe3",
   "metadata": {},
   "source": [
    "## Crime"
   ]
  },
  {
   "cell_type": "code",
   "execution_count": 11,
   "id": "e8552ec0-3f93-4c15-9121-19613a06f520",
   "metadata": {},
   "outputs": [],
   "source": [
    "URL = 'https://www.numbeo.com/crime/country_result.jsp?country=Japan'\n",
    "response = requests.get(URL)"
   ]
  },
  {
   "cell_type": "code",
   "execution_count": 12,
   "id": "feec94e5-d27a-451e-8d2f-1899f3a2f7f3",
   "metadata": {},
   "outputs": [
    {
     "data": {
      "text/plain": [
       "200"
      ]
     },
     "execution_count": 12,
     "metadata": {},
     "output_type": "execute_result"
    }
   ],
   "source": [
    "response.status_code"
   ]
  },
  {
   "cell_type": "code",
   "execution_count": 13,
   "id": "d79819ac-b443-408a-a03a-077ebb13eb7b",
   "metadata": {},
   "outputs": [],
   "source": [
    "soup = BS(response.text)"
   ]
  },
  {
   "cell_type": "code",
   "execution_count": 14,
   "id": "667f22a1-8e0a-4f46-ad3a-8fab4a054dac",
   "metadata": {
    "scrolled": true
   },
   "outputs": [
    {
     "data": {
      "text/plain": [
       "<table class=\"table_builder_with_value_explanation data_wide_table\">\n",
       "<tr><td class=\"columnWithName\">Level of crime</td><td><div class=\"jquery_bar\" id=\"level_of_crime\"></div></td><td class=\"indexValueTd\" style=\"text-align: right\">18.96</td><td class=\"hidden_on_small_mobile\"><span class=\"green_standard\">\n",
       "Very Low</span></td></tr>\n",
       "<tr><td class=\"columnWithName\">Crime increasing in the past 5 years</td><td><div class=\"jquery_bar\" id=\"crime_increasing\"></div></td><td class=\"indexValueTd\" style=\"text-align: right\">44.76</td><td class=\"hidden_on_small_mobile\"><span class=\"yellow_neutral_standard\">\n",
       "Moderate</span></td></tr>\n",
       "<tr><td class=\"columnWithName\">Worries home broken and things stolen</td><td><div class=\"jquery_bar\" id=\"worried_home_broken\"></div></td><td class=\"indexValueTd\" style=\"text-align: right\">19.89</td><td class=\"hidden_on_small_mobile\"><span class=\"green_standard\">\n",
       "Very Low</span></td></tr>\n",
       "<tr><td class=\"columnWithName\">Worries being mugged or robbed</td><td><div class=\"jquery_bar\" id=\"worried_mugged_robbed\"></div></td><td class=\"indexValueTd\" style=\"text-align: right\">18.96</td><td class=\"hidden_on_small_mobile\"><span class=\"green_standard\">\n",
       "Very Low</span></td></tr>\n",
       "<tr><td class=\"columnWithName\">Worries car stolen</td><td><div class=\"jquery_bar\" id=\"worried_car_stolen\"></div></td><td class=\"indexValueTd\" style=\"text-align: right\">16.81</td><td class=\"hidden_on_small_mobile\"><span class=\"green_standard\">\n",
       "Very Low</span></td></tr>\n",
       "<tr><td class=\"columnWithName\">Worries things from car stolen</td><td><div class=\"jquery_bar\" id=\"worried_things_car_stolen\"></div></td><td class=\"indexValueTd\" style=\"text-align: right\">19.18</td><td class=\"hidden_on_small_mobile\"><span class=\"green_standard\">\n",
       "Very Low</span></td></tr>\n",
       "<tr><td class=\"columnWithName\">Worries attacked</td><td><div class=\"jquery_bar\" id=\"worried_attacked\"></div></td><td class=\"indexValueTd\" style=\"text-align: right\">21.11</td><td class=\"hidden_on_small_mobile\"><span class=\"green_light_standard\">\n",
       "Low</span></td></tr>\n",
       "<tr><td class=\"columnWithName\">Worries being insulted</td><td><div class=\"jquery_bar\" id=\"worried_insulted\"></div></td><td class=\"indexValueTd\" style=\"text-align: right\">25.05</td><td class=\"hidden_on_small_mobile\"><span class=\"green_light_standard\">\n",
       "Low</span></td></tr>\n",
       "<tr><td class=\"columnWithName\">Worries being subject to a physical attack because of your skin color, ethnic origin, gender or religion</td><td><div class=\"jquery_bar\" id=\"worried_skin_ethnic_religion\"></div></td><td class=\"indexValueTd\" style=\"text-align: right\">24.10</td><td class=\"hidden_on_small_mobile\"><span class=\"green_light_standard\">\n",
       "Low</span></td></tr>\n",
       "<tr><td class=\"columnWithName\">Problem people using or dealing drugs</td><td><div class=\"jquery_bar\" id=\"problem_drugs\"></div></td><td class=\"indexValueTd\" style=\"text-align: right\">22.11</td><td class=\"hidden_on_small_mobile\"><span class=\"green_light_standard\">\n",
       "Low</span></td></tr>\n",
       "<tr><td class=\"columnWithName\">Problem property crimes such as vandalism and theft</td><td><div class=\"jquery_bar\" id=\"problem_property_crimes\"></div></td><td class=\"indexValueTd\" style=\"text-align: right\">22.16</td><td class=\"hidden_on_small_mobile\"><span class=\"green_light_standard\">\n",
       "Low</span></td></tr>\n",
       "<tr><td class=\"columnWithName\">Problem violent crimes such as assault and armed robbery</td><td><div class=\"jquery_bar\" id=\"problem_violent_crimes\"></div></td><td class=\"indexValueTd\" style=\"text-align: right\">19.39</td><td class=\"hidden_on_small_mobile\"><span class=\"green_standard\">\n",
       "Very Low</span></td></tr>\n",
       "<tr><td class=\"columnWithName\">Problem corruption and bribery</td><td><div class=\"jquery_bar\" id=\"problem_corruption\"></div></td><td class=\"indexValueTd\" style=\"text-align: right\">28.43</td><td class=\"hidden_on_small_mobile\"><span class=\"green_light_standard\">\n",
       "Low</span></td></tr>\n",
       "</table>"
      ]
     },
     "execution_count": 14,
     "metadata": {},
     "output_type": "execute_result"
    }
   ],
   "source": [
    "soup.find('table', attrs={'class':'table_builder_with_value_explanation data_wide_table'})"
   ]
  },
  {
   "cell_type": "code",
   "execution_count": 15,
   "id": "73a4a056-b17f-45d3-b52b-181b0e9f7ba2",
   "metadata": {},
   "outputs": [
    {
     "name": "stderr",
     "output_type": "stream",
     "text": [
      "C:\\Users\\debor\\AppData\\Local\\Temp\\ipykernel_91792\\3635083558.py:1: FutureWarning: Passing literal html to 'read_html' is deprecated and will be removed in a future version. To read from a literal string, wrap it in a 'StringIO' object.\n",
      "  crime = pd.read_html(str(soup.find('table', attrs={'class':'table_builder_with_value_explanation data_wide_table'})))[0]\n"
     ]
    }
   ],
   "source": [
    "crime = pd.read_html(str(soup.find('table', attrs={'class':'table_builder_with_value_explanation data_wide_table'})))[0]"
   ]
  },
  {
   "cell_type": "code",
   "execution_count": 16,
   "id": "64b8ce8c-8ebd-4f47-bd22-f8b2d93354b5",
   "metadata": {},
   "outputs": [],
   "source": [
    "crime = crime.drop(columns = [1])"
   ]
  },
  {
   "cell_type": "code",
   "execution_count": 17,
   "id": "a57275d0-7dda-4b13-9f0d-1e087fb0b66c",
   "metadata": {},
   "outputs": [
    {
     "data": {
      "text/html": [
       "<div>\n",
       "<style scoped>\n",
       "    .dataframe tbody tr th:only-of-type {\n",
       "        vertical-align: middle;\n",
       "    }\n",
       "\n",
       "    .dataframe tbody tr th {\n",
       "        vertical-align: top;\n",
       "    }\n",
       "\n",
       "    .dataframe thead th {\n",
       "        text-align: right;\n",
       "    }\n",
       "</style>\n",
       "<table border=\"1\" class=\"dataframe\">\n",
       "  <thead>\n",
       "    <tr style=\"text-align: right;\">\n",
       "      <th></th>\n",
       "      <th>Types of Crime</th>\n",
       "      <th>Crime%</th>\n",
       "      <th>Value</th>\n",
       "    </tr>\n",
       "  </thead>\n",
       "  <tbody>\n",
       "    <tr>\n",
       "      <th>0</th>\n",
       "      <td>Level of crime</td>\n",
       "      <td>18.96</td>\n",
       "      <td>Very Low</td>\n",
       "    </tr>\n",
       "    <tr>\n",
       "      <th>1</th>\n",
       "      <td>Crime increasing in the past 5 years</td>\n",
       "      <td>44.76</td>\n",
       "      <td>Moderate</td>\n",
       "    </tr>\n",
       "    <tr>\n",
       "      <th>2</th>\n",
       "      <td>Worries home broken and things stolen</td>\n",
       "      <td>19.89</td>\n",
       "      <td>Very Low</td>\n",
       "    </tr>\n",
       "    <tr>\n",
       "      <th>3</th>\n",
       "      <td>Worries being mugged or robbed</td>\n",
       "      <td>18.96</td>\n",
       "      <td>Very Low</td>\n",
       "    </tr>\n",
       "    <tr>\n",
       "      <th>4</th>\n",
       "      <td>Worries car stolen</td>\n",
       "      <td>16.81</td>\n",
       "      <td>Very Low</td>\n",
       "    </tr>\n",
       "    <tr>\n",
       "      <th>5</th>\n",
       "      <td>Worries things from car stolen</td>\n",
       "      <td>19.18</td>\n",
       "      <td>Very Low</td>\n",
       "    </tr>\n",
       "    <tr>\n",
       "      <th>6</th>\n",
       "      <td>Worries attacked</td>\n",
       "      <td>21.11</td>\n",
       "      <td>Low</td>\n",
       "    </tr>\n",
       "    <tr>\n",
       "      <th>7</th>\n",
       "      <td>Worries being insulted</td>\n",
       "      <td>25.05</td>\n",
       "      <td>Low</td>\n",
       "    </tr>\n",
       "    <tr>\n",
       "      <th>8</th>\n",
       "      <td>Worries being subject to a physical attack bec...</td>\n",
       "      <td>24.10</td>\n",
       "      <td>Low</td>\n",
       "    </tr>\n",
       "    <tr>\n",
       "      <th>9</th>\n",
       "      <td>Problem people using or dealing drugs</td>\n",
       "      <td>22.11</td>\n",
       "      <td>Low</td>\n",
       "    </tr>\n",
       "    <tr>\n",
       "      <th>10</th>\n",
       "      <td>Problem property crimes such as vandalism and ...</td>\n",
       "      <td>22.16</td>\n",
       "      <td>Low</td>\n",
       "    </tr>\n",
       "    <tr>\n",
       "      <th>11</th>\n",
       "      <td>Problem violent crimes such as assault and arm...</td>\n",
       "      <td>19.39</td>\n",
       "      <td>Very Low</td>\n",
       "    </tr>\n",
       "    <tr>\n",
       "      <th>12</th>\n",
       "      <td>Problem corruption and bribery</td>\n",
       "      <td>28.43</td>\n",
       "      <td>Low</td>\n",
       "    </tr>\n",
       "  </tbody>\n",
       "</table>\n",
       "</div>"
      ],
      "text/plain": [
       "                                       Types of Crime  Crime%     Value\n",
       "0                                      Level of crime   18.96  Very Low\n",
       "1                Crime increasing in the past 5 years   44.76  Moderate\n",
       "2               Worries home broken and things stolen   19.89  Very Low\n",
       "3                      Worries being mugged or robbed   18.96  Very Low\n",
       "4                                  Worries car stolen   16.81  Very Low\n",
       "5                      Worries things from car stolen   19.18  Very Low\n",
       "6                                    Worries attacked   21.11       Low\n",
       "7                              Worries being insulted   25.05       Low\n",
       "8   Worries being subject to a physical attack bec...   24.10       Low\n",
       "9               Problem people using or dealing drugs   22.11       Low\n",
       "10  Problem property crimes such as vandalism and ...   22.16       Low\n",
       "11  Problem violent crimes such as assault and arm...   19.39  Very Low\n",
       "12                     Problem corruption and bribery   28.43       Low"
      ]
     },
     "execution_count": 17,
     "metadata": {},
     "output_type": "execute_result"
    }
   ],
   "source": [
    "crime = crime.rename(columns = {0 : 'Types of Crime', 2: 'Crime%', 3: 'Value'})\n",
    "crime"
   ]
  },
  {
   "cell_type": "code",
   "execution_count": 18,
   "id": "639b2632-8d4e-4aed-8474-3b7e4e964c98",
   "metadata": {},
   "outputs": [],
   "source": [
    "crime.to_csv('Tokyo_crime.csv', index=False)"
   ]
  },
  {
   "cell_type": "markdown",
   "id": "570febd1-dd2e-4388-b244-4625cd3dd6db",
   "metadata": {},
   "source": [
    "SAFETY IN JAPAN"
   ]
  },
  {
   "cell_type": "code",
   "execution_count": 20,
   "id": "6846545d-a8ce-48d8-83f1-5a0c6ebf64f7",
   "metadata": {},
   "outputs": [
    {
     "name": "stderr",
     "output_type": "stream",
     "text": [
      "C:\\Users\\debor\\AppData\\Local\\Temp\\ipykernel_91792\\2482010599.py:1: FutureWarning: Passing literal html to 'read_html' is deprecated and will be removed in a future version. To read from a literal string, wrap it in a 'StringIO' object.\n",
      "  safety = pd.read_html(str(soup.findAll('table', attrs={'class':'table_builder_with_value_explanation data_wide_table'})))[1]\n"
     ]
    }
   ],
   "source": [
    "safety = pd.read_html(str(soup.findAll('table', attrs={'class':'table_builder_with_value_explanation data_wide_table'})))[1]"
   ]
  },
  {
   "cell_type": "code",
   "execution_count": 21,
   "id": "d830800a-ad34-4519-a82b-587ef8db8838",
   "metadata": {},
   "outputs": [],
   "source": [
    "safety = safety.drop(columns = [1])"
   ]
  },
  {
   "cell_type": "code",
   "execution_count": 22,
   "id": "51c5cd6c-9df6-4753-a9d2-00d45a2e4f96",
   "metadata": {},
   "outputs": [
    {
     "data": {
      "text/html": [
       "<div>\n",
       "<style scoped>\n",
       "    .dataframe tbody tr th:only-of-type {\n",
       "        vertical-align: middle;\n",
       "    }\n",
       "\n",
       "    .dataframe tbody tr th {\n",
       "        vertical-align: top;\n",
       "    }\n",
       "\n",
       "    .dataframe thead th {\n",
       "        text-align: right;\n",
       "    }\n",
       "</style>\n",
       "<table border=\"1\" class=\"dataframe\">\n",
       "  <thead>\n",
       "    <tr style=\"text-align: right;\">\n",
       "      <th></th>\n",
       "      <th>Components of Safety</th>\n",
       "      <th>Safety%</th>\n",
       "      <th>Value</th>\n",
       "    </tr>\n",
       "  </thead>\n",
       "  <tbody>\n",
       "    <tr>\n",
       "      <th>0</th>\n",
       "      <td>Safety walking alone during daylight</td>\n",
       "      <td>79.97</td>\n",
       "      <td>High</td>\n",
       "    </tr>\n",
       "    <tr>\n",
       "      <th>1</th>\n",
       "      <td>Safety walking alone during night</td>\n",
       "      <td>73.95</td>\n",
       "      <td>High</td>\n",
       "    </tr>\n",
       "  </tbody>\n",
       "</table>\n",
       "</div>"
      ],
      "text/plain": [
       "                   Components of Safety  Safety% Value\n",
       "0  Safety walking alone during daylight    79.97  High\n",
       "1     Safety walking alone during night    73.95  High"
      ]
     },
     "execution_count": 22,
     "metadata": {},
     "output_type": "execute_result"
    }
   ],
   "source": [
    "safety = safety.rename(columns = {0 : 'Components of Safety', 2: 'Safety%', 3: 'Value'})\n",
    "safety"
   ]
  },
  {
   "cell_type": "code",
   "execution_count": 23,
   "id": "94c04a1f-be98-4664-8310-bf01bee1e9d8",
   "metadata": {},
   "outputs": [],
   "source": [
    "safety.to_csv('Tokyo_safety.csv', index=False)"
   ]
  },
  {
   "cell_type": "markdown",
   "id": "b57e2646-3f54-4738-9376-5954572d0d2f",
   "metadata": {},
   "source": [
    "## Health Care"
   ]
  },
  {
   "cell_type": "code",
   "execution_count": 25,
   "id": "0e29f1c9-cc5f-4930-83be-f00046c7c6c8",
   "metadata": {},
   "outputs": [],
   "source": [
    "URL = 'https://www.numbeo.com/health-care/country_result.jsp?country=Japan'\n",
    "response = requests.get(URL)"
   ]
  },
  {
   "cell_type": "code",
   "execution_count": 26,
   "id": "6fdc23c2-2651-42ff-864a-e19dbefd858f",
   "metadata": {},
   "outputs": [
    {
     "data": {
      "text/plain": [
       "200"
      ]
     },
     "execution_count": 26,
     "metadata": {},
     "output_type": "execute_result"
    }
   ],
   "source": [
    "response.status_code"
   ]
  },
  {
   "cell_type": "code",
   "execution_count": 27,
   "id": "a6f54bbd-9bba-4213-9ba7-cf64d718039b",
   "metadata": {},
   "outputs": [],
   "source": [
    "soup = BS(response.text)"
   ]
  },
  {
   "cell_type": "code",
   "execution_count": 28,
   "id": "c6ccfacb-c9e3-4ada-bf90-4f47c121b50d",
   "metadata": {},
   "outputs": [
    {
     "name": "stderr",
     "output_type": "stream",
     "text": [
      "C:\\Users\\debor\\AppData\\Local\\Temp\\ipykernel_91792\\540973274.py:1: FutureWarning: Passing literal html to 'read_html' is deprecated and will be removed in a future version. To read from a literal string, wrap it in a 'StringIO' object.\n",
      "  health_care = pd.read_html(str(soup.find('table', attrs={'class':'table_builder_with_value_explanation data_wide_table'})))[0]\n"
     ]
    }
   ],
   "source": [
    "health_care = pd.read_html(str(soup.find('table', attrs={'class':'table_builder_with_value_explanation data_wide_table'})))[0]"
   ]
  },
  {
   "cell_type": "code",
   "execution_count": 29,
   "id": "ba6fb7d4-bf83-474b-80f6-1fd325471a4c",
   "metadata": {},
   "outputs": [],
   "source": [
    "health_care = health_care.drop(columns = ['Satisfaction %'])"
   ]
  },
  {
   "cell_type": "code",
   "execution_count": 30,
   "id": "33334b82-f015-4d21-ba38-f31f04ac6b7e",
   "metadata": {},
   "outputs": [
    {
     "data": {
      "text/html": [
       "<div>\n",
       "<style scoped>\n",
       "    .dataframe tbody tr th:only-of-type {\n",
       "        vertical-align: middle;\n",
       "    }\n",
       "\n",
       "    .dataframe tbody tr th {\n",
       "        vertical-align: top;\n",
       "    }\n",
       "\n",
       "    .dataframe thead th {\n",
       "        text-align: right;\n",
       "    }\n",
       "</style>\n",
       "<table border=\"1\" class=\"dataframe\">\n",
       "  <thead>\n",
       "    <tr style=\"text-align: right;\">\n",
       "      <th></th>\n",
       "      <th>Component of health care surveyed</th>\n",
       "      <th>Satisfaction %</th>\n",
       "      <th>Value</th>\n",
       "    </tr>\n",
       "  </thead>\n",
       "  <tbody>\n",
       "    <tr>\n",
       "      <th>0</th>\n",
       "      <td>Skill and competency of medical staff</td>\n",
       "      <td>79.42</td>\n",
       "      <td>High</td>\n",
       "    </tr>\n",
       "    <tr>\n",
       "      <th>1</th>\n",
       "      <td>Speed in completing examinations and reports</td>\n",
       "      <td>82.48</td>\n",
       "      <td>Very High</td>\n",
       "    </tr>\n",
       "    <tr>\n",
       "      <th>2</th>\n",
       "      <td>Equipment for modern diagnosis and treatment</td>\n",
       "      <td>85.55</td>\n",
       "      <td>Very High</td>\n",
       "    </tr>\n",
       "    <tr>\n",
       "      <th>3</th>\n",
       "      <td>Accuracy and completeness in filling out reports</td>\n",
       "      <td>80.45</td>\n",
       "      <td>Very High</td>\n",
       "    </tr>\n",
       "    <tr>\n",
       "      <th>4</th>\n",
       "      <td>Friendliness and courtesy of the staff</td>\n",
       "      <td>85.09</td>\n",
       "      <td>Very High</td>\n",
       "    </tr>\n",
       "    <tr>\n",
       "      <th>5</th>\n",
       "      <td>Satisfaction with responsiveness (waitings) in...</td>\n",
       "      <td>72.51</td>\n",
       "      <td>High</td>\n",
       "    </tr>\n",
       "    <tr>\n",
       "      <th>6</th>\n",
       "      <td>Satisfaction with cost to you</td>\n",
       "      <td>74.88</td>\n",
       "      <td>High</td>\n",
       "    </tr>\n",
       "    <tr>\n",
       "      <th>7</th>\n",
       "      <td>Convenience of location for you</td>\n",
       "      <td>82.04</td>\n",
       "      <td>Very High</td>\n",
       "    </tr>\n",
       "  </tbody>\n",
       "</table>\n",
       "</div>"
      ],
      "text/plain": [
       "                   Component of health care surveyed  Satisfaction %  \\\n",
       "0              Skill and competency of medical staff           79.42   \n",
       "1       Speed in completing examinations and reports           82.48   \n",
       "2       Equipment for modern diagnosis and treatment           85.55   \n",
       "3   Accuracy and completeness in filling out reports           80.45   \n",
       "4             Friendliness and courtesy of the staff           85.09   \n",
       "5  Satisfaction with responsiveness (waitings) in...           72.51   \n",
       "6                      Satisfaction with cost to you           74.88   \n",
       "7                    Convenience of location for you           82.04   \n",
       "\n",
       "       Value  \n",
       "0       High  \n",
       "1  Very High  \n",
       "2  Very High  \n",
       "3  Very High  \n",
       "4  Very High  \n",
       "5       High  \n",
       "6       High  \n",
       "7  Very High  "
      ]
     },
     "execution_count": 30,
     "metadata": {},
     "output_type": "execute_result"
    }
   ],
   "source": [
    "health_care = health_care.rename(columns = {'Satisfaction %.1' : 'Satisfaction %', 'Unnamed: 3': 'Value'})\n",
    "health_care"
   ]
  },
  {
   "cell_type": "code",
   "execution_count": 31,
   "id": "62d59bbe-8774-437b-abc7-a5dfa0311f46",
   "metadata": {},
   "outputs": [],
   "source": [
    "health_care.to_csv('Tokyo_health_care.csv', index=False)"
   ]
  },
  {
   "cell_type": "markdown",
   "id": "7254045e-3207-4f4f-ae66-fc4b68221430",
   "metadata": {},
   "source": [
    "## Pollution"
   ]
  },
  {
   "cell_type": "code",
   "execution_count": 33,
   "id": "e6e0d410-74d9-4eaf-af5f-9f26af6919af",
   "metadata": {},
   "outputs": [],
   "source": [
    "URL = 'https://www.numbeo.com/pollution/country_result.jsp?country=Japan'\n",
    "response = requests.get(URL)"
   ]
  },
  {
   "cell_type": "code",
   "execution_count": 34,
   "id": "3f707e2a-683d-448a-b45d-e36df2b1d74b",
   "metadata": {},
   "outputs": [
    {
     "data": {
      "text/plain": [
       "200"
      ]
     },
     "execution_count": 34,
     "metadata": {},
     "output_type": "execute_result"
    }
   ],
   "source": [
    "response.status_code"
   ]
  },
  {
   "cell_type": "code",
   "execution_count": 35,
   "id": "0db188bd-8e6c-4dbb-b9bc-328ec122f1fb",
   "metadata": {},
   "outputs": [],
   "source": [
    "soup = BS(response.text)"
   ]
  },
  {
   "cell_type": "code",
   "execution_count": 37,
   "id": "cb21079b-e237-4192-81a7-919d56a8c9cf",
   "metadata": {},
   "outputs": [
    {
     "name": "stderr",
     "output_type": "stream",
     "text": [
      "C:\\Users\\debor\\AppData\\Local\\Temp\\ipykernel_91792\\1145219388.py:1: FutureWarning: Passing literal html to 'read_html' is deprecated and will be removed in a future version. To read from a literal string, wrap it in a 'StringIO' object.\n",
      "  pollution = pd.read_html(str(soup.findAll('table', attrs={'class':'table_builder_with_value_explanation'})))[0]\n"
     ]
    }
   ],
   "source": [
    "pollution = pd.read_html(str(soup.findAll('table', attrs={'class':'table_builder_with_value_explanation'})))[0]"
   ]
  },
  {
   "cell_type": "code",
   "execution_count": 38,
   "id": "7e38b4c1-7b29-4011-879b-eb477e7d4213",
   "metadata": {},
   "outputs": [],
   "source": [
    "pollution = pollution.drop(columns = [1])"
   ]
  },
  {
   "cell_type": "code",
   "execution_count": 39,
   "id": "884597f8-5fad-46a7-b905-000c9f19256d",
   "metadata": {},
   "outputs": [
    {
     "data": {
      "text/html": [
       "<div>\n",
       "<style scoped>\n",
       "    .dataframe tbody tr th:only-of-type {\n",
       "        vertical-align: middle;\n",
       "    }\n",
       "\n",
       "    .dataframe tbody tr th {\n",
       "        vertical-align: top;\n",
       "    }\n",
       "\n",
       "    .dataframe thead th {\n",
       "        text-align: right;\n",
       "    }\n",
       "</style>\n",
       "<table border=\"1\" class=\"dataframe\">\n",
       "  <thead>\n",
       "    <tr style=\"text-align: right;\">\n",
       "      <th></th>\n",
       "      <th>Types of Pollution</th>\n",
       "      <th>Pollution%</th>\n",
       "      <th>Value</th>\n",
       "    </tr>\n",
       "  </thead>\n",
       "  <tbody>\n",
       "    <tr>\n",
       "      <th>0</th>\n",
       "      <td>Air Pollution</td>\n",
       "      <td>33.62</td>\n",
       "      <td>Low</td>\n",
       "    </tr>\n",
       "    <tr>\n",
       "      <th>1</th>\n",
       "      <td>Drinking Water Pollution and Inaccessibility</td>\n",
       "      <td>27.01</td>\n",
       "      <td>Low</td>\n",
       "    </tr>\n",
       "    <tr>\n",
       "      <th>2</th>\n",
       "      <td>Dissatisfaction with Garbage Disposal</td>\n",
       "      <td>29.08</td>\n",
       "      <td>Low</td>\n",
       "    </tr>\n",
       "    <tr>\n",
       "      <th>3</th>\n",
       "      <td>Dirty and Untidy</td>\n",
       "      <td>26.08</td>\n",
       "      <td>Low</td>\n",
       "    </tr>\n",
       "    <tr>\n",
       "      <th>4</th>\n",
       "      <td>Noise and Light Pollution</td>\n",
       "      <td>43.97</td>\n",
       "      <td>Moderate</td>\n",
       "    </tr>\n",
       "    <tr>\n",
       "      <th>5</th>\n",
       "      <td>Water Pollution</td>\n",
       "      <td>36.77</td>\n",
       "      <td>Low</td>\n",
       "    </tr>\n",
       "    <tr>\n",
       "      <th>6</th>\n",
       "      <td>Dissatisfaction with Spending Time in the City</td>\n",
       "      <td>31.41</td>\n",
       "      <td>Low</td>\n",
       "    </tr>\n",
       "    <tr>\n",
       "      <th>7</th>\n",
       "      <td>Dissatisfaction with Green and Parks in the City</td>\n",
       "      <td>35.15</td>\n",
       "      <td>Low</td>\n",
       "    </tr>\n",
       "  </tbody>\n",
       "</table>\n",
       "</div>"
      ],
      "text/plain": [
       "                                 Types of Pollution  Pollution%     Value\n",
       "0                                     Air Pollution       33.62       Low\n",
       "1      Drinking Water Pollution and Inaccessibility       27.01       Low\n",
       "2             Dissatisfaction with Garbage Disposal       29.08       Low\n",
       "3                                  Dirty and Untidy       26.08       Low\n",
       "4                         Noise and Light Pollution       43.97  Moderate\n",
       "5                                   Water Pollution       36.77       Low\n",
       "6    Dissatisfaction with Spending Time in the City       31.41       Low\n",
       "7  Dissatisfaction with Green and Parks in the City       35.15       Low"
      ]
     },
     "execution_count": 39,
     "metadata": {},
     "output_type": "execute_result"
    }
   ],
   "source": [
    "pollution = pollution.rename(columns = {0 : 'Types of Pollution', 2: 'Pollution%', 3: 'Value'})\n",
    "pollution"
   ]
  },
  {
   "cell_type": "code",
   "execution_count": 40,
   "id": "0deffc0a-2e7f-493e-8223-fa343fb056e7",
   "metadata": {},
   "outputs": [],
   "source": [
    "pollution.to_csv('Tokyo_pollution.csv', index=False)"
   ]
  },
  {
   "cell_type": "code",
   "execution_count": 41,
   "id": "7103e78f-60f6-4476-bc8b-b1b208c2f9e1",
   "metadata": {},
   "outputs": [
    {
     "name": "stderr",
     "output_type": "stream",
     "text": [
      "C:\\Users\\debor\\AppData\\Local\\Temp\\ipykernel_91792\\219648668.py:1: FutureWarning: Passing literal html to 'read_html' is deprecated and will be removed in a future version. To read from a literal string, wrap it in a 'StringIO' object.\n",
      "  purity = pd.read_html(str(soup.findAll('table', attrs={'class':'table_builder_with_value_explanation data_wide_table'})))[1]\n"
     ]
    }
   ],
   "source": [
    "purity = pd.read_html(str(soup.findAll('table', attrs={'class':'table_builder_with_value_explanation data_wide_table'})))[1]"
   ]
  },
  {
   "cell_type": "code",
   "execution_count": 42,
   "id": "6b1f9a4f-62aa-44b6-b23b-ee0433960ae9",
   "metadata": {},
   "outputs": [],
   "source": [
    "purity = purity.drop(columns = [1])"
   ]
  },
  {
   "cell_type": "code",
   "execution_count": 43,
   "id": "5f39092e-22f4-4d33-a2ad-cbaad6c086ad",
   "metadata": {},
   "outputs": [
    {
     "data": {
      "text/html": [
       "<div>\n",
       "<style scoped>\n",
       "    .dataframe tbody tr th:only-of-type {\n",
       "        vertical-align: middle;\n",
       "    }\n",
       "\n",
       "    .dataframe tbody tr th {\n",
       "        vertical-align: top;\n",
       "    }\n",
       "\n",
       "    .dataframe thead th {\n",
       "        text-align: right;\n",
       "    }\n",
       "</style>\n",
       "<table border=\"1\" class=\"dataframe\">\n",
       "  <thead>\n",
       "    <tr style=\"text-align: right;\">\n",
       "      <th></th>\n",
       "      <th>Types of Purity</th>\n",
       "      <th>Purity%</th>\n",
       "      <th>Value</th>\n",
       "    </tr>\n",
       "  </thead>\n",
       "  <tbody>\n",
       "    <tr>\n",
       "      <th>0</th>\n",
       "      <td>Air quality</td>\n",
       "      <td>66.38</td>\n",
       "      <td>High</td>\n",
       "    </tr>\n",
       "    <tr>\n",
       "      <th>1</th>\n",
       "      <td>Drinking Water Quality and Accessibility</td>\n",
       "      <td>72.99</td>\n",
       "      <td>High</td>\n",
       "    </tr>\n",
       "    <tr>\n",
       "      <th>2</th>\n",
       "      <td>Garbage Disposal Satisfaction</td>\n",
       "      <td>70.92</td>\n",
       "      <td>High</td>\n",
       "    </tr>\n",
       "    <tr>\n",
       "      <th>3</th>\n",
       "      <td>Clean and Tidy</td>\n",
       "      <td>73.92</td>\n",
       "      <td>High</td>\n",
       "    </tr>\n",
       "    <tr>\n",
       "      <th>4</th>\n",
       "      <td>Quiet and No Problem with Night Lights</td>\n",
       "      <td>56.03</td>\n",
       "      <td>Moderate</td>\n",
       "    </tr>\n",
       "    <tr>\n",
       "      <th>5</th>\n",
       "      <td>Water Quality</td>\n",
       "      <td>63.23</td>\n",
       "      <td>High</td>\n",
       "    </tr>\n",
       "    <tr>\n",
       "      <th>6</th>\n",
       "      <td>Comfortable to Spend Time in the City</td>\n",
       "      <td>68.59</td>\n",
       "      <td>High</td>\n",
       "    </tr>\n",
       "    <tr>\n",
       "      <th>7</th>\n",
       "      <td>Quality of Green and Parks</td>\n",
       "      <td>64.85</td>\n",
       "      <td>High</td>\n",
       "    </tr>\n",
       "  </tbody>\n",
       "</table>\n",
       "</div>"
      ],
      "text/plain": [
       "                            Types of Purity  Purity%     Value\n",
       "0                               Air quality    66.38      High\n",
       "1  Drinking Water Quality and Accessibility    72.99      High\n",
       "2             Garbage Disposal Satisfaction    70.92      High\n",
       "3                            Clean and Tidy    73.92      High\n",
       "4    Quiet and No Problem with Night Lights    56.03  Moderate\n",
       "5                             Water Quality    63.23      High\n",
       "6     Comfortable to Spend Time in the City    68.59      High\n",
       "7                Quality of Green and Parks    64.85      High"
      ]
     },
     "execution_count": 43,
     "metadata": {},
     "output_type": "execute_result"
    }
   ],
   "source": [
    "purity = purity.rename(columns = {0 : 'Types of Purity', 2: 'Purity%', 3: 'Value'})\n",
    "purity"
   ]
  },
  {
   "cell_type": "code",
   "execution_count": 44,
   "id": "8bf4bf1f-9a0d-42fb-a9c7-d18ec2ad0246",
   "metadata": {},
   "outputs": [],
   "source": [
    "purity.to_csv('Tokyo_purity.csv', index=False)"
   ]
  }
 ],
 "metadata": {
  "kernelspec": {
   "display_name": "Python 3 (ipykernel)",
   "language": "python",
   "name": "python3"
  },
  "language_info": {
   "codemirror_mode": {
    "name": "ipython",
    "version": 3
   },
   "file_extension": ".py",
   "mimetype": "text/x-python",
   "name": "python",
   "nbconvert_exporter": "python",
   "pygments_lexer": "ipython3",
   "version": "3.11.7"
  }
 },
 "nbformat": 4,
 "nbformat_minor": 5
}
